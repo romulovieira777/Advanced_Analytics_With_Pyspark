{
 "nbformat": 4,
 "nbformat_minor": 0,
 "metadata": {
  "colab": {
   "provenance": []
  },
  "kernelspec": {
   "name": "python3",
   "display_name": "Python 3 (ipykernel)",
   "language": "python"
  },
  "language_info": {
   "name": "python"
  }
 },
 "cells": [
  {
   "cell_type": "code",
   "execution_count": 1,
   "metadata": {
    "id": "8r9heZfN9Mac"
   },
   "outputs": [],
   "source": [
    "raw_user_artist_path = \"/content/user_artist_data.txt\""
   ]
  },
  {
   "cell_type": "code",
   "source": [
    "from pyspark.shell import spark\n",
    "\n",
    "raw_user_artist_data = spark.read.text(raw_user_artist_path)"
   ],
   "metadata": {
    "colab": {
     "base_uri": "https://localhost:8080/"
    },
    "id": "OjhoqvgAJQqC",
    "outputId": "0ab14db3-dd96-47ca-f5a9-3eea4b6f042c"
   },
   "execution_count": 3,
   "outputs": [
    {
     "output_type": "stream",
     "name": "stdout",
     "text": [
      "Collecting pyspark\n",
      "  Downloading pyspark-3.5.1.tar.gz (317.0 MB)\n",
      "\u001B[2K     \u001B[90m━━━━━━━━━━━━━━━━━━━━━━━━━━━━━━━━━━━━━━━━\u001B[0m \u001B[32m317.0/317.0 MB\u001B[0m \u001B[31m2.3 MB/s\u001B[0m eta \u001B[36m0:00:00\u001B[0m\n",
      "\u001B[?25h  Preparing metadata (setup.py) ... \u001B[?25l\u001B[?25hdone\n",
      "Requirement already satisfied: py4j==0.10.9.7 in /usr/local/lib/python3.10/dist-packages (from pyspark) (0.10.9.7)\n",
      "Building wheels for collected packages: pyspark\n",
      "  Building wheel for pyspark (setup.py) ... \u001B[?25l\u001B[?25hdone\n",
      "  Created wheel for pyspark: filename=pyspark-3.5.1-py2.py3-none-any.whl size=317488491 sha256=b58b1a04ebe0a99ebac99754a224ad66bcf279e02aa221240ad758e0a3ce3b10\n",
      "  Stored in directory: /root/.cache/pip/wheels/80/1d/60/2c256ed38dddce2fdd93be545214a63e02fbd8d74fb0b7f3a6\n",
      "Successfully built pyspark\n",
      "Installing collected packages: pyspark\n",
      "Successfully installed pyspark-3.5.1\n",
      "Welcome to\n",
      "      ____              __\n",
      "     / __/__  ___ _____/ /__\n",
      "    _\\ \\/ _ \\/ _ `/ __/  '_/\n",
      "   /__ / .__/\\_,_/_/ /_/\\_\\   version 3.5.1\n",
      "      /_/\n",
      "\n",
      "Using Python version 3.10.12 (main, Nov 20 2023 15:14:05)\n",
      "Spark context Web UI available at http://899b2e8b7c2c:4040\n",
      "Spark context available as 'sc' (master = local[*], app id = local-1716211057241).\n",
      "SparkSession available as 'spark'.\n"
     ]
    }
   ]
  },
  {
   "cell_type": "code",
   "source": [
    "raw_user_artist_data.show(5)"
   ],
   "metadata": {
    "colab": {
     "base_uri": "https://localhost:8080/"
    },
    "id": "vbYH7mIMJTGX",
    "outputId": "d130a481-fe03-445a-bc20-1a06c3ceb050"
   },
   "execution_count": 4,
   "outputs": [
    {
     "output_type": "stream",
     "name": "stdout",
     "text": [
      "+-------------------+\n",
      "|              value|\n",
      "+-------------------+\n",
      "|       1000002 1 55|\n",
      "| 1000002 1000006 33|\n",
      "|  1000002 1000007 8|\n",
      "|1000002 1000009 144|\n",
      "|1000002 1000010 314|\n",
      "+-------------------+\n",
      "only showing top 5 rows\n",
      "\n"
     ]
    }
   ]
  },
  {
   "cell_type": "code",
   "source": [
    "raw_artist_data = spark.read.text(\"/content/artist_data.txt\")"
   ],
   "metadata": {
    "id": "pCZTgOnDJsyy"
   },
   "execution_count": 5,
   "outputs": []
  },
  {
   "cell_type": "code",
   "source": [
    "raw_artist_data.show(5)"
   ],
   "metadata": {
    "colab": {
     "base_uri": "https://localhost:8080/"
    },
    "id": "DvV-T1UzJy1Z",
    "outputId": "b5c1913e-337c-4ca3-adc6-7c372a08f576"
   },
   "execution_count": 6,
   "outputs": [
    {
     "output_type": "stream",
     "name": "stdout",
     "text": [
      "+--------------------+\n",
      "|               value|\n",
      "+--------------------+\n",
      "|1134999\\t06Crazy ...|\n",
      "|6821360\\tPang Nak...|\n",
      "|10113088\\tTerfel,...|\n",
      "|10151459\\tThe Fla...|\n",
      "|6826647\\tBodensta...|\n",
      "+--------------------+\n",
      "only showing top 5 rows\n",
      "\n"
     ]
    }
   ]
  },
  {
   "cell_type": "code",
   "source": [
    "raw_artist_alias = spark.read.text(\"/content/artist_alias.txt\")"
   ],
   "metadata": {
    "id": "Hu27RWXEJz-u"
   },
   "execution_count": 7,
   "outputs": []
  },
  {
   "cell_type": "code",
   "source": [
    "raw_artist_alias.show(5)"
   ],
   "metadata": {
    "colab": {
     "base_uri": "https://localhost:8080/"
    },
    "id": "FOVISP31J3nw",
    "outputId": "90888f7b-54f9-4a7b-c918-0792967c92eb"
   },
   "execution_count": 8,
   "outputs": [
    {
     "output_type": "stream",
     "name": "stdout",
     "text": [
      "+-----------------+\n",
      "|            value|\n",
      "+-----------------+\n",
      "| 1092764\\t1000311|\n",
      "| 1095122\\t1000557|\n",
      "| 6708070\\t1007267|\n",
      "|10088054\\t1042317|\n",
      "| 1195917\\t1042317|\n",
      "+-----------------+\n",
      "only showing top 5 rows\n",
      "\n"
     ]
    }
   ]
  },
  {
   "cell_type": "code",
   "source": [
    "from pyspark.sql.functions import split, min, max\n",
    "from pyspark.sql.types import IntegerType, StringType\n",
    "\n",
    "user_artist_df = raw_user_artist_data.withColumn(\"user\",\n",
    "                                                 split(raw_user_artist_data[\"value\"], \" \"). \\\n",
    "                                                 getItem(0). \\\n",
    "                                                 cast(IntegerType()))\n",
    "\n",
    "user_artist_df = user_artist_df.withColumn(\"artist\",\n",
    "                                             split(raw_user_artist_data[\"value\"], \" \"). \\\n",
    "                                             getItem(1). \\\n",
    "                                             cast(IntegerType()))\n",
    "\n",
    "user_artist_df = user_artist_df.withColumn(\"count\",\n",
    "                                                split(raw_user_artist_data[\"value\"], \" \"). \\\n",
    "                                                getItem(2). \\\n",
    "                                                cast(IntegerType())). \\\n",
    "                                                drop(\"value\")\n",
    "\n",
    "user_artist_df.select([min(\"user\"), max(\"user\"), min(\"artist\"), max(\"artist\")]).show()"
   ],
   "metadata": {
    "colab": {
     "base_uri": "https://localhost:8080/"
    },
    "id": "6juJINW7J5Km",
    "outputId": "230adace-136c-4bf3-c67b-12dbb61f5336"
   },
   "execution_count": 9,
   "outputs": [
    {
     "output_type": "stream",
     "name": "stdout",
     "text": [
      "+---------+---------+-----------+-----------+\n",
      "|min(user)|max(user)|min(artist)|max(artist)|\n",
      "+---------+---------+-----------+-----------+\n",
      "|       90|  2443548|          1|   10794401|\n",
      "+---------+---------+-----------+-----------+\n",
      "\n"
     ]
    }
   ]
  },
  {
   "cell_type": "code",
   "source": [
    "from pyspark.sql.functions import col\n",
    "\n",
    "\n",
    "artist_by_id = raw_artist_data.withColumn(\"id\",\n",
    "                                            split(col(\"value\"), \"\\t\", 2). \\\n",
    "                                            getItem(0). \\\n",
    "                                            cast(IntegerType()))\n",
    "\n",
    "artist_by_id = artist_by_id.withColumn(\"name\",\n",
    "                                        split(col(\"value\"), \"\\t\", 2). \\\n",
    "                                        getItem(1). \\\n",
    "                                        cast(StringType())). \\\n",
    "                                        drop(\"value\")\n",
    "\n",
    "artist_by_id.show(5)"
   ],
   "metadata": {
    "colab": {
     "base_uri": "https://localhost:8080/"
    },
    "id": "54iyI072J622",
    "outputId": "d6e0f89a-9de1-43a5-f9c7-336c5ed18ada"
   },
   "execution_count": 10,
   "outputs": [
    {
     "output_type": "stream",
     "name": "stdout",
     "text": [
      "+--------+--------------------+\n",
      "|      id|                name|\n",
      "+--------+--------------------+\n",
      "| 1134999|        06Crazy Life|\n",
      "| 6821360|        Pang Nakarin|\n",
      "|10113088|Terfel, Bartoli- ...|\n",
      "|10151459| The Flaming Sidebur|\n",
      "| 6826647|   Bodenstandig 3000|\n",
      "+--------+--------------------+\n",
      "only showing top 5 rows\n",
      "\n"
     ]
    }
   ]
  },
  {
   "cell_type": "code",
   "source": [
    "artist_alias = raw_artist_alias.withColumn(\"artist\",\n",
    "                                            split(col(\"value\"), \"\\t\"). \\\n",
    "                                            getItem(0). \\\n",
    "                                            cast(IntegerType())). \\\n",
    "                                withColumn(\"alias\",\n",
    "                                            split(col(\"value\"), \"\\t\"). \\\n",
    "                                            getItem(1). \\\n",
    "                                            cast(IntegerType())). \\\n",
    "                                            drop(\"value\")\n",
    "\n",
    "artist_alias.show(5)"
   ],
   "metadata": {
    "colab": {
     "base_uri": "https://localhost:8080/"
    },
    "id": "bp4N5qzkKCmH",
    "outputId": "cd322ce3-0622-43b6-fc9e-bd965f52e3a2"
   },
   "execution_count": 11,
   "outputs": [
    {
     "output_type": "stream",
     "name": "stdout",
     "text": [
      "+--------+-------+\n",
      "|  artist|  alias|\n",
      "+--------+-------+\n",
      "| 1092764|1000311|\n",
      "| 1095122|1000557|\n",
      "| 6708070|1007267|\n",
      "|10088054|1042317|\n",
      "| 1195917|1042317|\n",
      "+--------+-------+\n",
      "only showing top 5 rows\n",
      "\n"
     ]
    }
   ]
  },
  {
   "cell_type": "code",
   "source": [
    "artist_by_id.filter(artist_by_id.id.isin(1092764, 1000311)).show()"
   ],
   "metadata": {
    "colab": {
     "base_uri": "https://localhost:8080/"
    },
    "id": "ECPDYT3WKEWV",
    "outputId": "f6a1bd9a-9453-44ea-b468-b10566bbfa14",
    "ExecuteTime": {
     "end_time": "2024-05-20T13:31:34.731353Z",
     "start_time": "2024-05-20T13:31:34.138413Z"
    }
   },
   "outputs": [
    {
     "name": "stdout",
     "output_type": "stream",
     "text": [
      "+-------+--------------+\n",
      "|     id|          name|\n",
      "+-------+--------------+\n",
      "|1000311| Steve Winwood|\n",
      "|1092764|Winwood, Steve|\n",
      "+-------+--------------+\n",
      "\n"
     ]
    }
   ],
   "execution_count": 24
  },
  {
   "cell_type": "code",
   "source": [
    "from pyspark.sql.functions import broadcast, when\n",
    "\n",
    "\n",
    "train_data = train_data = user_artist_df.join(broadcast(artist_alias), \"artist\", how=\"left\")\n",
    "\n",
    "train_data = train_data.withColumn(\"artist\",\n",
    "                                    when(col(\"alias\").isNull(), col(\"artist\")). \\\n",
    "                                    otherwise(col(\"alias\")))\n",
    "\n",
    "train_data = train_data.withColumn(\"artist\",\n",
    "                                    col(\"artist\").cast(IntegerType())). \\\n",
    "                                    drop(\"alias\")\n",
    "\n",
    "train_data.cache()\n",
    "\n",
    "train_data.count()"
   ],
   "metadata": {
    "colab": {
     "base_uri": "https://localhost:8080/"
    },
    "id": "tr5hz8uaKGIo",
    "outputId": "fbdaa4f7-c364-4d93-ad82-44d928179379"
   },
   "execution_count": 13,
   "outputs": [
    {
     "output_type": "execute_result",
     "data": {
      "text/plain": [
       "24296858"
      ]
     },
     "metadata": {},
     "execution_count": 13
    }
   ]
  },
  {
   "cell_type": "code",
   "source": [
    "from pyspark.ml.recommendation import ALS\n",
    "\n",
    "\n",
    "model = ALS(rank=10, seed=0, maxIter=5, regParam=0.1, implicitPrefs=True, alpha=1.0, userCol=\"user\", itemCol=\"artist\", ratingCol=\"count\"). \\\n",
    "        fit(train_data)"
   ],
   "metadata": {
    "id": "Zr_fdBu-KMDm"
   },
   "execution_count": 14,
   "outputs": []
  },
  {
   "cell_type": "code",
   "source": [
    "model.userFactors.show(1, truncate=False)"
   ],
   "metadata": {
    "colab": {
     "base_uri": "https://localhost:8080/"
    },
    "id": "58gTDkdvKi2O",
    "outputId": "b5f7fde1-4c0e-4959-ea9b-16ed653ef18c"
   },
   "execution_count": 15,
   "outputs": [
    {
     "output_type": "stream",
     "name": "stdout",
     "text": [
      "+---+------------------------------------------------------------------------------------------------------------------------------+\n",
      "|id |features                                                                                                                      |\n",
      "+---+------------------------------------------------------------------------------------------------------------------------------+\n",
      "|90 |[0.16020624, 0.20717518, -0.17194684, 0.06038469, 0.062727705, 0.54658705, -0.40481892, 0.43657345, -0.10396775, -0.042728312]|\n",
      "+---+------------------------------------------------------------------------------------------------------------------------------+\n",
      "only showing top 1 row\n",
      "\n"
     ]
    }
   ]
  }
 ]
}
