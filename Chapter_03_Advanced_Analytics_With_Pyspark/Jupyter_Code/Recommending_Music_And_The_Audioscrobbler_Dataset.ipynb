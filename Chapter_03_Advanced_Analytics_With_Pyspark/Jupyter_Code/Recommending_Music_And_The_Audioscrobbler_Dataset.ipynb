{
 "cells": [
  {
   "cell_type": "code",
   "source": [
    "raw_user_artist_path = \"/content/user_artist_data.txt\""
   ],
   "metadata": {
    "id": "WMplcu0LNRVi"
   },
   "execution_count": 1,
   "outputs": []
  },
  {
   "cell_type": "code",
   "source": [
    "from pyspark.shell import spark\n",
    "\n",
    "raw_user_artist_data = spark.read.text(raw_user_artist_path)"
   ],
   "metadata": {
    "id": "m-J4EVJ1NdHZ",
    "outputId": "bce1ceb0-e8f9-4506-8ffe-84cf8c6cdda2",
    "colab": {
     "base_uri": "https://localhost:8080/"
    }
   },
   "execution_count": 2,
   "outputs": [
    {
     "output_type": "stream",
     "name": "stdout",
     "text": [
      "Welcome to\n",
      "      ____              __\n",
      "     / __/__  ___ _____/ /__\n",
      "    _\\ \\/ _ \\/ _ `/ __/  '_/\n",
      "   /__ / .__/\\_,_/_/ /_/\\_\\   version 3.5.1\n",
      "      /_/\n",
      "\n",
      "Using Python version 3.10.12 (main, Nov 20 2023 15:14:05)\n",
      "Spark context Web UI available at http://1dbbd8969999:4040\n",
      "Spark context available as 'sc' (master = local[*], app id = local-1716299852786).\n",
      "SparkSession available as 'spark'.\n"
     ]
    }
   ]
  },
  {
   "cell_type": "code",
   "source": [
    "raw_user_artist_data.show(5)"
   ],
   "metadata": {
    "id": "dNvh5RMhNg31",
    "outputId": "56b66ce5-7be4-4634-c95e-30230286964b",
    "colab": {
     "base_uri": "https://localhost:8080/"
    }
   },
   "execution_count": 3,
   "outputs": [
    {
     "output_type": "stream",
     "name": "stdout",
     "text": [
      "+-------------------+\n",
      "|              value|\n",
      "+-------------------+\n",
      "|       1000002 1 55|\n",
      "| 1000002 1000006 33|\n",
      "|  1000002 1000007 8|\n",
      "|1000002 1000009 144|\n",
      "|1000002 1000010 314|\n",
      "+-------------------+\n",
      "only showing top 5 rows\n",
      "\n"
     ]
    }
   ]
  },
  {
   "cell_type": "code",
   "source": [
    "raw_artist_data = spark.read.text(\"/content/artist_data.txt\")"
   ],
   "metadata": {
    "id": "_P5WRJR3NzKu"
   },
   "execution_count": 4,
   "outputs": []
  },
  {
   "cell_type": "code",
   "source": [
    "raw_artist_data.show(5)"
   ],
   "metadata": {
    "id": "sA0n_xf0N4Ct",
    "outputId": "3a699782-535a-4c55-ffef-b2d744cd3277",
    "colab": {
     "base_uri": "https://localhost:8080/"
    }
   },
   "execution_count": 5,
   "outputs": [
    {
     "output_type": "stream",
     "name": "stdout",
     "text": [
      "+--------------------+\n",
      "|               value|\n",
      "+--------------------+\n",
      "|1134999\\t06Crazy ...|\n",
      "|6821360\\tPang Nak...|\n",
      "|10113088\\tTerfel,...|\n",
      "|10151459\\tThe Fla...|\n",
      "|6826647\\tBodensta...|\n",
      "+--------------------+\n",
      "only showing top 5 rows\n",
      "\n"
     ]
    }
   ]
  },
  {
   "cell_type": "code",
   "source": [
    "raw_artist_alias = spark.read.text(\"/content/artist_alias.txt\")"
   ],
   "metadata": {
    "id": "eGIdEcigN45u"
   },
   "execution_count": 6,
   "outputs": []
  },
  {
   "cell_type": "code",
   "source": [
    "raw_artist_alias.show(5)"
   ],
   "metadata": {
    "id": "Cp0unXrxN8B9",
    "outputId": "22876279-02c3-4e40-b02c-4c8bc2d2fce6",
    "colab": {
     "base_uri": "https://localhost:8080/"
    }
   },
   "execution_count": 7,
   "outputs": [
    {
     "output_type": "stream",
     "name": "stdout",
     "text": [
      "+-----------------+\n",
      "|            value|\n",
      "+-----------------+\n",
      "| 1092764\\t1000311|\n",
      "| 1095122\\t1000557|\n",
      "| 6708070\\t1007267|\n",
      "|10088054\\t1042317|\n",
      "| 1195917\\t1042317|\n",
      "+-----------------+\n",
      "only showing top 5 rows\n",
      "\n"
     ]
    }
   ]
  },
  {
   "cell_type": "code",
   "source": [
    "raw_user_artist_data.show(10)"
   ],
   "metadata": {
    "id": "NDDDdpYKN9Wt",
    "outputId": "f82f1d6c-6ad6-4ab4-d740-d6a572fa75a3",
    "colab": {
     "base_uri": "https://localhost:8080/"
    }
   },
   "execution_count": 8,
   "outputs": [
    {
     "output_type": "stream",
     "name": "stdout",
     "text": [
      "+-------------------+\n",
      "|              value|\n",
      "+-------------------+\n",
      "|       1000002 1 55|\n",
      "| 1000002 1000006 33|\n",
      "|  1000002 1000007 8|\n",
      "|1000002 1000009 144|\n",
      "|1000002 1000010 314|\n",
      "|  1000002 1000013 8|\n",
      "| 1000002 1000014 42|\n",
      "| 1000002 1000017 69|\n",
      "|1000002 1000024 329|\n",
      "|  1000002 1000025 1|\n",
      "+-------------------+\n",
      "only showing top 10 rows\n",
      "\n"
     ]
    }
   ]
  },
  {
   "cell_type": "code",
   "source": [
    "from pyspark.sql.functions import split, min, max\n",
    "from pyspark.sql.types import IntegerType, StringType\n",
    "\n",
    "user_artist_df = raw_user_artist_data.withColumn(\"user\",\n",
    "                                                 split(raw_user_artist_data[\"value\"], \" \"). \\\n",
    "                                                 getItem(0). \\\n",
    "                                                 cast(IntegerType()))\n",
    "\n",
    "user_artist_df = user_artist_df.withColumn(\"artist\",\n",
    "                                             split(raw_user_artist_data[\"value\"], \" \"). \\\n",
    "                                             getItem(1). \\\n",
    "                                             cast(IntegerType()))\n",
    "\n",
    "user_artist_df = user_artist_df.withColumn(\"count\",\n",
    "                                                split(raw_user_artist_data[\"value\"], \" \"). \\\n",
    "                                                getItem(2). \\\n",
    "                                                cast(IntegerType())). \\\n",
    "                                                drop(\"value\")\n",
    "\n",
    "user_artist_df.select([min(\"user\"), max(\"user\"), min(\"artist\"), max(\"artist\")]).show()"
   ],
   "metadata": {
    "id": "8c1r3mi6N-kN",
    "outputId": "9a6b8d74-becd-442e-85b2-96850278e365",
    "colab": {
     "base_uri": "https://localhost:8080/"
    }
   },
   "execution_count": 9,
   "outputs": [
    {
     "output_type": "stream",
     "name": "stdout",
     "text": [
      "+---------+---------+-----------+-----------+\n",
      "|min(user)|max(user)|min(artist)|max(artist)|\n",
      "+---------+---------+-----------+-----------+\n",
      "|       90|  2443548|          1|   10794401|\n",
      "+---------+---------+-----------+-----------+\n",
      "\n"
     ]
    }
   ]
  },
  {
   "cell_type": "code",
   "source": [
    "from pyspark.sql.functions import col\n",
    "\n",
    "\n",
    "artist_by_id = raw_artist_data.withColumn(\"id\",\n",
    "                                            split(col(\"value\"), \"\\t\", 2). \\\n",
    "                                            getItem(0). \\\n",
    "                                            cast(IntegerType()))\n",
    "\n",
    "artist_by_id = artist_by_id.withColumn(\"name\",\n",
    "                                        split(col(\"value\"), \"\\t\", 2). \\\n",
    "                                        getItem(1). \\\n",
    "                                        cast(StringType())). \\\n",
    "                                        drop(\"value\")\n",
    "\n",
    "artist_by_id.show(5)"
   ],
   "metadata": {
    "id": "_4N8aqO5OAW9",
    "outputId": "69141105-66f9-471e-9aac-c9fc15e5ffb8",
    "colab": {
     "base_uri": "https://localhost:8080/"
    }
   },
   "execution_count": 10,
   "outputs": [
    {
     "output_type": "stream",
     "name": "stdout",
     "text": [
      "+--------+--------------------+\n",
      "|      id|                name|\n",
      "+--------+--------------------+\n",
      "| 1134999|        06Crazy Life|\n",
      "| 6821360|        Pang Nakarin|\n",
      "|10113088|Terfel, Bartoli- ...|\n",
      "|10151459| The Flaming Sidebur|\n",
      "| 6826647|   Bodenstandig 3000|\n",
      "+--------+--------------------+\n",
      "only showing top 5 rows\n",
      "\n"
     ]
    }
   ]
  },
  {
   "cell_type": "code",
   "source": [
    "artist_alias = raw_artist_alias.withColumn(\"artist\",\n",
    "                                            split(col(\"value\"), \"\\t\"). \\\n",
    "                                            getItem(0). \\\n",
    "                                            cast(IntegerType())). \\\n",
    "                                withColumn(\"alias\",\n",
    "                                            split(col(\"value\"), \"\\t\"). \\\n",
    "                                            getItem(1). \\\n",
    "                                            cast(IntegerType())). \\\n",
    "                                            drop(\"value\")\n",
    "\n",
    "artist_alias.show(5)"
   ],
   "metadata": {
    "id": "aACDxroSODwF",
    "outputId": "684ad445-5920-498f-89f8-018422d92558",
    "colab": {
     "base_uri": "https://localhost:8080/"
    }
   },
   "execution_count": 11,
   "outputs": [
    {
     "output_type": "stream",
     "name": "stdout",
     "text": [
      "+--------+-------+\n",
      "|  artist|  alias|\n",
      "+--------+-------+\n",
      "| 1092764|1000311|\n",
      "| 1095122|1000557|\n",
      "| 6708070|1007267|\n",
      "|10088054|1042317|\n",
      "| 1195917|1042317|\n",
      "+--------+-------+\n",
      "only showing top 5 rows\n",
      "\n"
     ]
    }
   ]
  },
  {
   "cell_type": "code",
   "source": [
    "artist_by_id.filter(artist_by_id.id.isin(1092764, 1000311)).show()"
   ],
   "metadata": {
    "id": "VQEp1tUQOE7F",
    "outputId": "c2d5bf0b-3a7a-4dce-bcc9-2bead190d3bc",
    "colab": {
     "base_uri": "https://localhost:8080/"
    }
   },
   "execution_count": 12,
   "outputs": [
    {
     "output_type": "stream",
     "name": "stdout",
     "text": [
      "+-------+--------------+\n",
      "|     id|          name|\n",
      "+-------+--------------+\n",
      "|1000311| Steve Winwood|\n",
      "|1092764|Winwood, Steve|\n",
      "+-------+--------------+\n",
      "\n"
     ]
    }
   ]
  },
  {
   "cell_type": "code",
   "source": [
    "from pyspark.sql.functions import broadcast, when\n",
    "\n",
    "\n",
    "train_data = train_data = user_artist_df.join(broadcast(artist_alias), \"artist\", how=\"left\")\n",
    "\n",
    "train_data = train_data.withColumn(\"artist\",\n",
    "                                    when(col(\"alias\").isNull(), col(\"artist\")). \\\n",
    "                                    otherwise(col(\"alias\")))\n",
    "\n",
    "train_data = train_data.withColumn(\"artist\",\n",
    "                                    col(\"artist\").cast(IntegerType())). \\\n",
    "                                    drop(\"alias\")\n",
    "\n",
    "train_data.cache()\n",
    "\n",
    "train_data.count()"
   ],
   "metadata": {
    "id": "3yMIwMgQOGcU",
    "outputId": "d1ec0d4e-2667-4267-deba-4471b116290e",
    "colab": {
     "base_uri": "https://localhost:8080/"
    }
   },
   "execution_count": 13,
   "outputs": [
    {
     "output_type": "execute_result",
     "data": {
      "text/plain": [
       "24296858"
      ]
     },
     "metadata": {},
     "execution_count": 13
    }
   ]
  },
  {
   "cell_type": "code",
   "source": [
    "from pyspark.ml.recommendation import ALS\n",
    "\n",
    "model = ALS(rank=10, seed=0, maxIter=5, regParam=0.1, implicitPrefs=True, alpha=1.0, userCol=\"user\", itemCol=\"artist\", ratingCol=\"count\"). \\\n",
    "        fit(train_data)"
   ],
   "metadata": {
    "id": "M--wRHnROJds"
   },
   "execution_count": 14,
   "outputs": []
  },
  {
   "cell_type": "code",
   "source": [
    "model.userFactors.show(1, truncate=False)"
   ],
   "metadata": {
    "id": "HjWB_NrCOMm1",
    "outputId": "02fba6a9-8d37-407d-a3b7-21d40766ca7e",
    "colab": {
     "base_uri": "https://localhost:8080/"
    }
   },
   "execution_count": 15,
   "outputs": [
    {
     "output_type": "stream",
     "name": "stdout",
     "text": [
      "+---+------------------------------------------------------------------------------------------------------------------------------+\n",
      "|id |features                                                                                                                      |\n",
      "+---+------------------------------------------------------------------------------------------------------------------------------+\n",
      "|90 |[0.16020624, 0.20717518, -0.17194684, 0.06038469, 0.062727705, 0.54658705, -0.40481892, 0.43657345, -0.10396775, -0.042728312]|\n",
      "+---+------------------------------------------------------------------------------------------------------------------------------+\n",
      "only showing top 1 row\n",
      "\n"
     ]
    }
   ]
  },
  {
   "cell_type": "code",
   "source": [
    "user_id = 2093760\n",
    "\n",
    "existing_artist_ids = train_data.filter(train_data.user == user_id). \\\n",
    "    select(\"artist\"). \\\n",
    "    collect()\n",
    "\n",
    "existing_artist_ids = [i[0] for i in existing_artist_ids]\n",
    "\n",
    "artist_by_id.filter(col(\"id\").isin(existing_artist_ids)).show()"
   ],
   "metadata": {
    "id": "LepVMFsmOrMh",
    "outputId": "88ff0781-add6-422b-9ad5-b033ed27c0f4",
    "colab": {
     "base_uri": "https://localhost:8080/"
    }
   },
   "execution_count": 16,
   "outputs": [
    {
     "output_type": "stream",
     "name": "stdout",
     "text": [
      "+-------+---------------+\n",
      "|     id|           name|\n",
      "+-------+---------------+\n",
      "|   1180|     David Gray|\n",
      "|    378|  Blackalicious|\n",
      "|    813|     Jurassic 5|\n",
      "|1255340|The Saw Doctors|\n",
      "|    942|         Xzibit|\n",
      "+-------+---------------+\n",
      "\n"
     ]
    }
   ]
  },
  {
   "cell_type": "code",
   "source": [
    "user_subset = train_data.select(\"user\").where(col(\"user\") == user_id).distinct()\n",
    "top_predictions = model.recommendForUserSubset(user_subset, 5)\n",
    "\n",
    "top_predictions.show()"
   ],
   "metadata": {
    "id": "5htOMaqcgGa2",
    "outputId": "02f1ea5d-5c04-438b-f069-cfabc552633d",
    "colab": {
     "base_uri": "https://localhost:8080/"
    }
   },
   "execution_count": 17,
   "outputs": [
    {
     "output_type": "stream",
     "name": "stdout",
     "text": [
      "+-------+--------------------+\n",
      "|   user|     recommendations|\n",
      "+-------+--------------------+\n",
      "|2093760|[{2814, 0.0294106...|\n",
      "+-------+--------------------+\n",
      "\n"
     ]
    }
   ]
  },
  {
   "cell_type": "code",
   "source": [
    "top_predictions_pandas = top_predictions.toPandas()\n",
    "\n",
    "print(top_predictions_pandas)"
   ],
   "metadata": {
    "id": "V4nju9qdgqdO",
    "outputId": "58b3b2d8-2110-4c40-eec4-3292886ae6ea",
    "colab": {
     "base_uri": "https://localhost:8080/"
    }
   },
   "execution_count": 18,
   "outputs": [
    {
     "output_type": "stream",
     "name": "stdout",
     "text": [
      "      user                                    recommendations\n",
      "0  2093760  [(2814, 0.029410677030682564), (1300642, 0.028...\n"
     ]
    }
   ]
  },
  {
   "cell_type": "code",
   "source": [
    "recommended_artist_ids = [i[0] for i in top_predictions_pandas. \\\n",
    "    recommendations[0]]\n",
    "\n",
    "artist_by_id.filter(col(\"id\").isin(recommended_artist_ids)).show()"
   ],
   "metadata": {
    "id": "NmSqzL73hC5X",
    "outputId": "03e1fa0b-f09a-4c20-c8ae-4219fbc3c22b",
    "colab": {
     "base_uri": "https://localhost:8080/"
    }
   },
   "execution_count": 19,
   "outputs": [
    {
     "output_type": "stream",
     "name": "stdout",
     "text": [
      "+-------+----------+\n",
      "|     id|      name|\n",
      "+-------+----------+\n",
      "|   2814|   50 Cent|\n",
      "|   4605|Snoop Dogg|\n",
      "|1007614|     Jay-Z|\n",
      "|1001819|      2Pac|\n",
      "|1300642|  The Game|\n",
      "+-------+----------+\n",
      "\n"
     ]
    }
   ]
  },
  {
   "cell_type": "code",
   "source": [
    "def area_under_curve(\n",
    "        positive_data,\n",
    "        b_all_artist_IDs,\n",
    "        predict_function\n",
    "):\n",
    "\n",
    "all_data = user_artist_df.join(broadcast(artist_alias), \"artist\", how=\"left\"). \\\n",
    "    withColumn(\"artist\", when(col(\"alias\").isNull(), col(\"artist\")). \\\n",
    "               otherwise(col(\"alias\"))). \\\n",
    "    withColumn(\"artist\", col(\"artist\").cast(IntegerType())). \\\n",
    "    drop(\"alias\")\n",
    "\n",
    "train_data, cv_data = all_data.randomSplit([0.9, 0.1], seed=54321)\n",
    "train_data.cache()\n",
    "cv_data.cache()\n",
    "\n",
    "all_artist_ids = all_data.select(\"artist\").distinct().count()\n",
    "b_all_artist_ids = broadcast(all_artist_ids)\n",
    "\n",
    "\n",
    "model = ALS(rank=10, seed=0, maxIter=5, regParam=0.1, implicitPrefs=True, alpha=1.0, userCol=\"user\", itemCol=\"artist\", ratingCol=\"count\"). \\\n",
    "    fit(train_data)\n",
    "\n",
    "area_under_curve(cv_data, b_all_artist_ids, model.transform)"
   ],
   "metadata": {
    "id": "Gy8vBT35hT1s"
   },
   "execution_count": null,
   "outputs": []
  },
  {
   "cell_type": "code",
   "source": [
    "from pyspark.sql.functions import sum as _sum\n",
    "\n",
    "\n",
    "def predict_most_listened(train):\n",
    "    listen_counts = train.groupBy(\"artist\"). \\\n",
    "        agg(_sum(\"count\").alias(\"prediction\")). \\\n",
    "        select(\"artist\", \"prediction\")\n",
    "\n",
    "    return all_data.join(listen_counts, \"artist\", \"left_outer\"). \\\n",
    "        select(\"user\", \"artist\", \"prediction\")\n",
    "\n",
    "area_under_curve(cv_data, b_all_artist_ids, predict_most_listened(train_data))"
   ],
   "metadata": {
    "id": "WlzLQrBYmlAt"
   },
   "execution_count": null,
   "outputs": []
  },
  {
   "cell_type": "code",
   "source": [
    "from pprint import pprint\n",
    "from itertools import product\n",
    "\n",
    "\n",
    "ranks = [5, 30]\n",
    "reg_params = [4.0, 0.0001]\n",
    "alphas = [1.0, 40.0]\n",
    "hyperparam_combinations = list(product(*[ranks, reg_params, alphas]))\n",
    "\n",
    "evaluations = []\n",
    "\n",
    "for c in hyperparam_combinations:\n",
    "    rank = c[0]\n",
    "    reg_param = c[1]\n",
    "    alpha = c[2]\n",
    "    model = ALS().setSeed(0).setImplicitPrefs(True).setRank(rank). \\\n",
    "        setRegParam(reg_param).setAlpha(alpha).setMaxIter(20). \\\n",
    "        setUserCol(\"user\").setItemCol(\"artist\"). \\\n",
    "        setRatingCol(\"count\").setPredictionCol(\"prediction\"). \\\n",
    "        fit(train_data)\n",
    "\n",
    "    auc = area_under_curve(cv_data, b_all_artist_ids, model.transform)\n",
    "\n",
    "    model.userFactors.unpersist()\n",
    "    model.itemFactors.unpersist()\n",
    "\n",
    "    evaluations.append((auc, (rank, reg_param, alpha)))\n",
    "\n",
    "\n",
    "evaluations.sort(key=lambda x: x[0], reverse=True)\n",
    "pprint(evaluations)"
   ],
   "metadata": {
    "id": "MSaChy3Lnjor"
   },
   "execution_count": null,
   "outputs": []
  },
  {
   "cell_type": "code",
   "source": [
    "some_users = all_data.select(\"user\").distinct().limit(100) 1\n",
    "\n",
    "val someRecommendations =\n",
    "  someUsers.map(userID => (userID, makeRecommendations(model, userID, 5)))\n",
    "someRecommendations.foreach { case (userID, recsDF) =>\n",
    "  val recommendedArtists = recsDF.select(\"artist\").as[Int].collect()\n",
    "  println(s\"$userID -> ${recommendedArtists.mkString(\", \")}\")\n",
    "}"
   ],
   "metadata": {
    "id": "Yrh7gJU9py4F"
   },
   "execution_count": null,
   "outputs": []
  }
 ],
 "metadata": {
  "colab": {
   "name": "Olá, este é o Colaboratory",
   "provenance": []
  },
  "kernelspec": {
   "display_name": "Python 3",
   "name": "python3"
  }
 },
 "nbformat": 4,
 "nbformat_minor": 0
}
