{
  "cells": [
    {
      "cell_type": "code",
      "source": [
        "import pyspark\n",
        "\n",
        "from pyspark.sql import SparkSession"
      ],
      "metadata": {
        "id": "QEwbjFJIukx_"
      },
      "execution_count": 1,
      "outputs": []
    },
    {
      "cell_type": "code",
      "source": [
        "spark = SparkSession.builder.config(\"spark.driver.memory\", \"6g\").appName('chapter_3').getOrCreate()"
      ],
      "metadata": {
        "id": "r8cmTomRuo9z"
      },
      "execution_count": 2,
      "outputs": []
    },
    {
      "cell_type": "markdown",
      "source": [
        "#Setting Up the Data"
      ],
      "metadata": {
        "id": "Y1_xhx34u7fc"
      }
    },
    {
      "cell_type": "code",
      "source": [
        "raw_user_artist_path = \"/content/user_artist_data.txt\""
      ],
      "metadata": {
        "id": "WMplcu0LNRVi"
      },
      "execution_count": 3,
      "outputs": []
    },
    {
      "cell_type": "code",
      "source": [
        "from pyspark.shell import spark\n",
        "\n",
        "raw_user_artist_data = spark.read.text(raw_user_artist_path)"
      ],
      "metadata": {
        "colab": {
          "base_uri": "https://localhost:8080/"
        },
        "id": "m-J4EVJ1NdHZ",
        "outputId": "83d167d3-e670-4f44-b069-d4a9d3d6e582"
      },
      "execution_count": 4,
      "outputs": [
        {
          "output_type": "stream",
          "name": "stdout",
          "text": [
            "Welcome to\n",
            "      ____              __\n",
            "     / __/__  ___ _____/ /__\n",
            "    _\\ \\/ _ \\/ _ `/ __/  '_/\n",
            "   /__ / .__/\\_,_/_/ /_/\\_\\   version 3.5.1\n",
            "      /_/\n",
            "\n",
            "Using Python version 3.10.12 (main, Nov 20 2023 15:14:05)\n",
            "Spark context Web UI available at http://1dbbd8969999:4040\n",
            "Spark context available as 'sc' (master = local[*], app id = local-1716304659447).\n",
            "SparkSession available as 'spark'.\n"
          ]
        }
      ]
    },
    {
      "cell_type": "code",
      "source": [
        "raw_user_artist_data.show(5)"
      ],
      "metadata": {
        "colab": {
          "base_uri": "https://localhost:8080/"
        },
        "id": "dNvh5RMhNg31",
        "outputId": "dcd5b47b-ec30-4e5d-999f-c22de81e4888"
      },
      "execution_count": 5,
      "outputs": [
        {
          "output_type": "stream",
          "name": "stdout",
          "text": [
            "+-------------------+\n",
            "|              value|\n",
            "+-------------------+\n",
            "|       1000002 1 55|\n",
            "| 1000002 1000006 33|\n",
            "|  1000002 1000007 8|\n",
            "|1000002 1000009 144|\n",
            "|1000002 1000010 314|\n",
            "+-------------------+\n",
            "only showing top 5 rows\n",
            "\n"
          ]
        }
      ]
    },
    {
      "cell_type": "code",
      "source": [
        "raw_artist_data = spark.read.text(\"/content/artist_data.txt\")"
      ],
      "metadata": {
        "id": "_P5WRJR3NzKu"
      },
      "execution_count": 6,
      "outputs": []
    },
    {
      "cell_type": "code",
      "source": [
        "raw_artist_data.show(5)"
      ],
      "metadata": {
        "colab": {
          "base_uri": "https://localhost:8080/"
        },
        "id": "sA0n_xf0N4Ct",
        "outputId": "1efde0cd-6187-43a2-bc90-4807a127e35b"
      },
      "execution_count": 7,
      "outputs": [
        {
          "output_type": "stream",
          "name": "stdout",
          "text": [
            "+--------------------+\n",
            "|               value|\n",
            "+--------------------+\n",
            "|1134999\\t06Crazy ...|\n",
            "|6821360\\tPang Nak...|\n",
            "|10113088\\tTerfel,...|\n",
            "|10151459\\tThe Fla...|\n",
            "|6826647\\tBodensta...|\n",
            "+--------------------+\n",
            "only showing top 5 rows\n",
            "\n"
          ]
        }
      ]
    },
    {
      "cell_type": "code",
      "source": [
        "raw_artist_alias = spark.read.text(\"/content/artist_alias.txt\")"
      ],
      "metadata": {
        "id": "eGIdEcigN45u"
      },
      "execution_count": 8,
      "outputs": []
    },
    {
      "cell_type": "code",
      "source": [
        "raw_artist_alias.show(5)"
      ],
      "metadata": {
        "colab": {
          "base_uri": "https://localhost:8080/"
        },
        "id": "Cp0unXrxN8B9",
        "outputId": "0375de53-7e09-460b-c634-966fb89c6b09"
      },
      "execution_count": 9,
      "outputs": [
        {
          "output_type": "stream",
          "name": "stdout",
          "text": [
            "+-----------------+\n",
            "|            value|\n",
            "+-----------------+\n",
            "| 1092764\\t1000311|\n",
            "| 1095122\\t1000557|\n",
            "| 6708070\\t1007267|\n",
            "|10088054\\t1042317|\n",
            "| 1195917\\t1042317|\n",
            "+-----------------+\n",
            "only showing top 5 rows\n",
            "\n"
          ]
        }
      ]
    },
    {
      "cell_type": "markdown",
      "source": [
        "# Preparing the Data"
      ],
      "metadata": {
        "id": "HFbCOGN7vAt_"
      }
    },
    {
      "cell_type": "code",
      "source": [
        "raw_user_artist_data.show(10)"
      ],
      "metadata": {
        "colab": {
          "base_uri": "https://localhost:8080/"
        },
        "id": "NDDDdpYKN9Wt",
        "outputId": "c5d3f0ba-8a9a-4763-b1da-bea5cfbbb916"
      },
      "execution_count": 10,
      "outputs": [
        {
          "output_type": "stream",
          "name": "stdout",
          "text": [
            "+-------------------+\n",
            "|              value|\n",
            "+-------------------+\n",
            "|       1000002 1 55|\n",
            "| 1000002 1000006 33|\n",
            "|  1000002 1000007 8|\n",
            "|1000002 1000009 144|\n",
            "|1000002 1000010 314|\n",
            "|  1000002 1000013 8|\n",
            "| 1000002 1000014 42|\n",
            "| 1000002 1000017 69|\n",
            "|1000002 1000024 329|\n",
            "|  1000002 1000025 1|\n",
            "+-------------------+\n",
            "only showing top 10 rows\n",
            "\n"
          ]
        }
      ]
    },
    {
      "cell_type": "code",
      "source": [
        "from pyspark.sql.functions import split, min, max\n",
        "from pyspark.sql.types import IntegerType, StringType\n",
        "\n",
        "user_artist_df = raw_user_artist_data.withColumn(\"user\",\n",
        "                                                 split(raw_user_artist_data[\"value\"], \" \"). \\\n",
        "                                                 getItem(0). \\\n",
        "                                                 cast(IntegerType()))\n",
        "\n",
        "user_artist_df = user_artist_df.withColumn(\"artist\",\n",
        "                                             split(raw_user_artist_data[\"value\"], \" \"). \\\n",
        "                                             getItem(1). \\\n",
        "                                             cast(IntegerType()))\n",
        "\n",
        "user_artist_df = user_artist_df.withColumn(\"count\",\n",
        "                                                split(raw_user_artist_data[\"value\"], \" \"). \\\n",
        "                                                getItem(2). \\\n",
        "                                                cast(IntegerType())). \\\n",
        "                                                drop(\"value\")\n",
        "\n",
        "user_artist_df.select([min(\"user\"), max(\"user\"), min(\"artist\"), max(\"artist\")]).show()"
      ],
      "metadata": {
        "colab": {
          "base_uri": "https://localhost:8080/"
        },
        "id": "8c1r3mi6N-kN",
        "outputId": "a066d842-5ffd-4446-e3e7-36f80b96f7ca"
      },
      "execution_count": 11,
      "outputs": [
        {
          "output_type": "stream",
          "name": "stdout",
          "text": [
            "+---------+---------+-----------+-----------+\n",
            "|min(user)|max(user)|min(artist)|max(artist)|\n",
            "+---------+---------+-----------+-----------+\n",
            "|       90|  2443548|          1|   10794401|\n",
            "+---------+---------+-----------+-----------+\n",
            "\n"
          ]
        }
      ]
    },
    {
      "cell_type": "code",
      "source": [
        "from pyspark.sql.functions import col\n",
        "\n",
        "\n",
        "artist_by_id = raw_artist_data.withColumn(\"id\",\n",
        "                                            split(col(\"value\"), \"\\t\", 2). \\\n",
        "                                            getItem(0). \\\n",
        "                                            cast(IntegerType()))\n",
        "\n",
        "artist_by_id = artist_by_id.withColumn(\"name\",\n",
        "                                        split(col(\"value\"), \"\\t\", 2). \\\n",
        "                                        getItem(1). \\\n",
        "                                        cast(StringType())). \\\n",
        "                                        drop(\"value\")\n",
        "\n",
        "artist_by_id.show(5)"
      ],
      "metadata": {
        "colab": {
          "base_uri": "https://localhost:8080/"
        },
        "id": "_4N8aqO5OAW9",
        "outputId": "30ffaaf2-486a-46b6-e20d-0d00035eca66"
      },
      "execution_count": 12,
      "outputs": [
        {
          "output_type": "stream",
          "name": "stdout",
          "text": [
            "+--------+--------------------+\n",
            "|      id|                name|\n",
            "+--------+--------------------+\n",
            "| 1134999|        06Crazy Life|\n",
            "| 6821360|        Pang Nakarin|\n",
            "|10113088|Terfel, Bartoli- ...|\n",
            "|10151459| The Flaming Sidebur|\n",
            "| 6826647|   Bodenstandig 3000|\n",
            "+--------+--------------------+\n",
            "only showing top 5 rows\n",
            "\n"
          ]
        }
      ]
    },
    {
      "cell_type": "code",
      "source": [
        "artist_alias = raw_artist_alias.withColumn(\"artist\",\n",
        "                                            split(col(\"value\"), \"\\t\"). \\\n",
        "                                            getItem(0). \\\n",
        "                                            cast(IntegerType())). \\\n",
        "                                withColumn(\"alias\",\n",
        "                                            split(col(\"value\"), \"\\t\"). \\\n",
        "                                            getItem(1). \\\n",
        "                                            cast(IntegerType())). \\\n",
        "                                            drop(\"value\")\n",
        "\n",
        "artist_alias.show(5)"
      ],
      "metadata": {
        "colab": {
          "base_uri": "https://localhost:8080/"
        },
        "id": "aACDxroSODwF",
        "outputId": "46ba9682-4f13-4ae9-d864-35b902faf794"
      },
      "execution_count": 13,
      "outputs": [
        {
          "output_type": "stream",
          "name": "stdout",
          "text": [
            "+--------+-------+\n",
            "|  artist|  alias|\n",
            "+--------+-------+\n",
            "| 1092764|1000311|\n",
            "| 1095122|1000557|\n",
            "| 6708070|1007267|\n",
            "|10088054|1042317|\n",
            "| 1195917|1042317|\n",
            "+--------+-------+\n",
            "only showing top 5 rows\n",
            "\n"
          ]
        }
      ]
    },
    {
      "cell_type": "code",
      "source": [
        "artist_by_id.filter(artist_by_id.id.isin(1092764, 1000311)).show()"
      ],
      "metadata": {
        "colab": {
          "base_uri": "https://localhost:8080/"
        },
        "id": "VQEp1tUQOE7F",
        "outputId": "8d7effab-185c-4792-aa7f-9565da2b82cd"
      },
      "execution_count": 14,
      "outputs": [
        {
          "output_type": "stream",
          "name": "stdout",
          "text": [
            "+-------+--------------+\n",
            "|     id|          name|\n",
            "+-------+--------------+\n",
            "|1000311| Steve Winwood|\n",
            "|1092764|Winwood, Steve|\n",
            "+-------+--------------+\n",
            "\n"
          ]
        }
      ]
    },
    {
      "cell_type": "markdown",
      "source": [
        "# Building a First Model"
      ],
      "metadata": {
        "id": "04_IhxCevJbC"
      }
    },
    {
      "cell_type": "code",
      "source": [
        "from pyspark.sql.functions import broadcast, when\n",
        "\n",
        "\n",
        "train_data = train_data = user_artist_df.join(broadcast(artist_alias), \"artist\", how=\"left\")\n",
        "\n",
        "train_data = train_data.withColumn(\"artist\",\n",
        "                                    when(col(\"alias\").isNull(), col(\"artist\")). \\\n",
        "                                    otherwise(col(\"alias\")))\n",
        "\n",
        "train_data = train_data.withColumn(\"artist\",\n",
        "                                    col(\"artist\").cast(IntegerType())). \\\n",
        "                                    drop(\"alias\")\n",
        "\n",
        "train_data.cache()\n",
        "\n",
        "train_data.count()"
      ],
      "metadata": {
        "colab": {
          "base_uri": "https://localhost:8080/"
        },
        "id": "3yMIwMgQOGcU",
        "outputId": "2f2bdadd-9436-4af4-a95c-dcb249e6c93e"
      },
      "execution_count": 15,
      "outputs": [
        {
          "output_type": "execute_result",
          "data": {
            "text/plain": [
              "24296858"
            ]
          },
          "metadata": {},
          "execution_count": 15
        }
      ]
    },
    {
      "cell_type": "code",
      "source": [
        "from pyspark.ml.recommendation import ALS\n",
        "\n",
        "model = ALS(rank=10, seed=0, maxIter=5, regParam=0.1, implicitPrefs=True, alpha=1.0, userCol=\"user\", itemCol=\"artist\", ratingCol=\"count\"). \\\n",
        "        fit(train_data)"
      ],
      "metadata": {
        "id": "M--wRHnROJds"
      },
      "execution_count": 16,
      "outputs": []
    },
    {
      "cell_type": "code",
      "source": [
        "model.userFactors.show(1, truncate=False)"
      ],
      "metadata": {
        "colab": {
          "base_uri": "https://localhost:8080/"
        },
        "id": "HjWB_NrCOMm1",
        "outputId": "1197501a-31e8-48c7-b9c7-d73d910474a0"
      },
      "execution_count": 17,
      "outputs": [
        {
          "output_type": "stream",
          "name": "stdout",
          "text": [
            "+---+------------------------------------------------------------------------------------------------------------------------------+\n",
            "|id |features                                                                                                                      |\n",
            "+---+------------------------------------------------------------------------------------------------------------------------------+\n",
            "|90 |[0.16020624, 0.20717518, -0.17194684, 0.06038469, 0.062727705, 0.54658705, -0.40481892, 0.43657345, -0.10396775, -0.042728312]|\n",
            "+---+------------------------------------------------------------------------------------------------------------------------------+\n",
            "only showing top 1 row\n",
            "\n"
          ]
        }
      ]
    },
    {
      "cell_type": "markdown",
      "source": [
        "# Spot Checking Recommendations"
      ],
      "metadata": {
        "id": "De8iwT9lvQaG"
      }
    },
    {
      "cell_type": "code",
      "source": [
        "user_id = 2093760\n",
        "\n",
        "existing_artist_ids = train_data.filter(train_data.user == user_id). \\\n",
        "    select(\"artist\"). \\\n",
        "    collect()\n",
        "\n",
        "existing_artist_ids = [i[0] for i in existing_artist_ids]\n",
        "\n",
        "artist_by_id.filter(col(\"id\").isin(existing_artist_ids)).show()"
      ],
      "metadata": {
        "colab": {
          "base_uri": "https://localhost:8080/"
        },
        "id": "LepVMFsmOrMh",
        "outputId": "b052f61b-aac2-4caa-e291-c94097a29276"
      },
      "execution_count": 18,
      "outputs": [
        {
          "output_type": "stream",
          "name": "stdout",
          "text": [
            "+-------+---------------+\n",
            "|     id|           name|\n",
            "+-------+---------------+\n",
            "|   1180|     David Gray|\n",
            "|    378|  Blackalicious|\n",
            "|    813|     Jurassic 5|\n",
            "|1255340|The Saw Doctors|\n",
            "|    942|         Xzibit|\n",
            "+-------+---------------+\n",
            "\n"
          ]
        }
      ]
    },
    {
      "cell_type": "code",
      "source": [
        "user_subset = train_data.select(\"user\").where(col(\"user\") == user_id).distinct()\n",
        "top_predictions = model.recommendForUserSubset(user_subset, 5)\n",
        "\n",
        "top_predictions.show()"
      ],
      "metadata": {
        "colab": {
          "base_uri": "https://localhost:8080/"
        },
        "id": "5htOMaqcgGa2",
        "outputId": "d4f395df-207d-44da-a3b2-f98e6e9ca2ed"
      },
      "execution_count": 19,
      "outputs": [
        {
          "output_type": "stream",
          "name": "stdout",
          "text": [
            "+-------+--------------------+\n",
            "|   user|     recommendations|\n",
            "+-------+--------------------+\n",
            "|2093760|[{2814, 0.0294106...|\n",
            "+-------+--------------------+\n",
            "\n"
          ]
        }
      ]
    },
    {
      "cell_type": "code",
      "source": [
        "top_predictions_pandas = top_predictions.toPandas()\n",
        "\n",
        "print(top_predictions_pandas)"
      ],
      "metadata": {
        "colab": {
          "base_uri": "https://localhost:8080/"
        },
        "id": "V4nju9qdgqdO",
        "outputId": "576d4258-c149-4087-d33e-98665bf301e2"
      },
      "execution_count": 20,
      "outputs": [
        {
          "output_type": "stream",
          "name": "stdout",
          "text": [
            "      user                                    recommendations\n",
            "0  2093760  [(2814, 0.029410677030682564), (1300642, 0.028...\n"
          ]
        }
      ]
    },
    {
      "cell_type": "code",
      "source": [
        "recommended_artist_ids = [i[0] for i in top_predictions_pandas. \\\n",
        "    recommendations[0]]\n",
        "\n",
        "artist_by_id.filter(col(\"id\").isin(recommended_artist_ids)).show()"
      ],
      "metadata": {
        "colab": {
          "base_uri": "https://localhost:8080/"
        },
        "id": "NmSqzL73hC5X",
        "outputId": "a818c6ee-0768-470e-cd55-13aef40c93ce"
      },
      "execution_count": 21,
      "outputs": [
        {
          "output_type": "stream",
          "name": "stdout",
          "text": [
            "+-------+----------+\n",
            "|     id|      name|\n",
            "+-------+----------+\n",
            "|   2814|   50 Cent|\n",
            "|   4605|Snoop Dogg|\n",
            "|1007614|     Jay-Z|\n",
            "|1001819|      2Pac|\n",
            "|1300642|  The Game|\n",
            "+-------+----------+\n",
            "\n"
          ]
        }
      ]
    },
    {
      "cell_type": "code",
      "source": [
        "from pyspark.sql.functions import col, lit, count, mean, coalesce\n",
        "from pyspark.sql import DataFrame\n",
        "from typing import List\n",
        "import random\n",
        "\n",
        "\n",
        "def area_under_curve(positive_data: DataFrame, b_all_artist_ids: List[int], predict_function) -> float:\n",
        "    positive_predictions = predict_function(positive_data.select(\"user\", \"artist\")).withColumnRenamed(\"prediction\", \"positivePrediction\")\n",
        "\n",
        "    def negative_data_generation(user_artist_tuples):\n",
        "        user_negative_artists = []\n",
        "        for user, pos_artist_ids in user_artist_tuples:\n",
        "            pos_artist_id_set = set(pos_artist_ids)\n",
        "            negative_artists = set()\n",
        "            while len(negative_artists) < len(pos_artist_id_set):\n",
        "                artist_id = b_all_artist_ids[random.randint(0, len(b_all_artist_ids) - 1)]\n",
        "                if artist_id not in pos_artist_id_set:\n",
        "                    negative_artists.add(artist_id)\n",
        "            user_negative_artists.extend([(user, artist_id) for artist_id in negative_artists])\n",
        "        return user_negative_artists\n",
        "\n",
        "    user_artist_rdd = positive_data.select(\"user\", \"artist\").rdd.groupByKey().mapValues(list).collect()\n",
        "    negative_data = spark.createDataFrame(negative_data_generation(user_artist_rdd), schema=[\"user\", \"artist\"])\n",
        "\n",
        "    negative_predictions = predict_function(negative_data).withColumnRenamed(\"prediction\", \"negativePrediction\")\n",
        "\n",
        "    joined_predictions = positive_predictions.join(negative_predictions, \"user\").select(\"user\", \"positivePrediction\", \"negativePrediction\").cache()\n",
        "\n",
        "    all_counts = joined_predictions.groupBy(\"user\").agg(count(lit(1)).alias(\"total\")).select(\"user\", \"total\")\n",
        "    correct_counts = joined_predictions.filter(col(\"positivePrediction\") > col(\"negativePrediction\")).groupBy(\"user\").agg(count(\"user\").alias(\"correct\")).select(\"user\", \"correct\")\n",
        "\n",
        "    mean_auc = all_counts.join(correct_counts, [\"user\"], \"left_outer\").select(col(\"user\"), (coalesce(col(\"correct\"), lit(0)) / col(\"total\")).alias(\"auc\")).agg(mean(\"auc\")).collect()[0][0]\n",
        "\n",
        "    joined_predictions.unpersist()\n",
        "\n",
        "    return mean_auc\n",
        "\n",
        "\n",
        "\n",
        "all_data = user_artist_df.join(broadcast(artist_alias), 'artist', how='left') \\\n",
        "    .withColumn('artist', when(col('alias').isNull(), col('artist'))\\\n",
        "    .otherwise(col('alias'))) \\\n",
        "    .withColumn('artist', col('artist').cast(IntegerType())).drop('alias')\n",
        "\n",
        "train_data, cv_data = all_data.randomSplit([0.9, 0.1], seed=54321)\n",
        "train_data.cache()\n",
        "cv_data.cache()\n",
        "\n",
        "all_artist_ids = all_data.select(\"artist\").distinct()\n",
        "all_artist_ids = [i[0] for i in all_artist_ids.collect()]\n",
        "\n",
        "model = ALS(rank=10, seed=0, maxIter=5, regParam=0.1,\n",
        "            implicitPrefs=True, alpha=1.0, userCol='user',\n",
        "            itemCol='artist', ratingCol='count') \\\n",
        "        .fit(train_data)\n",
        "\n",
        "area_under_curve(cv_data, all_artist_ids, model.transform)"
      ],
      "metadata": {
        "id": "LFjvAm1Yxceo",
        "outputId": "729e4065-fa29-4997-d9b8-430dfd5ac769",
        "colab": {
          "base_uri": "https://localhost:8080/"
        }
      },
      "execution_count": 22,
      "outputs": [
        {
          "output_type": "execute_result",
          "data": {
            "text/plain": [
              "0.9048383396763761"
            ]
          },
          "metadata": {},
          "execution_count": 22
        }
      ]
    },
    {
      "cell_type": "code",
      "source": [
        "from pyspark.sql.functions import sum as _sum\n",
        "\n",
        "def predict_most_listened(train):\n",
        "    # Agrupar por artista e somar as contagens para obter a predição\n",
        "    listen_counts = train.groupBy(\"artist\").agg(_sum(\"count\").alias(\"prediction\"))\n",
        "\n",
        "    # Realizar a junção à esquerda com os dados de treino e selecionar as colunas desejadas\n",
        "    result = train.join(listen_counts, \"artist\", \"left_outer\").select(\"user\", \"artist\", \"prediction\")\n",
        "\n",
        "    return result\n",
        "\n",
        "\n",
        "area_under_curve(cv_data, all_artist_ids, predict_most_listened)"
      ],
      "metadata": {
        "id": "ZPsI2ua_xzbn"
      },
      "execution_count": null,
      "outputs": []
    },
    {
      "cell_type": "markdown",
      "source": [
        "# Hyperparameter selection"
      ],
      "metadata": {
        "id": "93DqDiKkx48Y"
      }
    },
    {
      "cell_type": "code",
      "source": [
        "from pprint import pprint\n",
        "from itertools import product\n",
        "\n",
        "ranks = [5, 30]\n",
        "reg_params = [4.0, 0.0001]\n",
        "alphas = [1.0, 40.0]\n",
        "hyperparam_combinations = list(product(*[ranks, reg_params, alphas]))\n",
        "\n",
        "evaluations = []\n",
        "\n",
        "for c in hyperparam_combinations:\n",
        "    rank = c[0]\n",
        "    reg_param = c[1]\n",
        "    alpha = c[2]\n",
        "    model = ALS().setSeed(0).setImplicitPrefs(True).setRank(rank).setRegParam(reg_param).setAlpha(alpha).setMaxIter(20).setUserCol(\"user\").setItemCol(\"artist\").setRatingCol(\"count\").setPredictionCol(\"prediction\").fit(train_data)\n",
        "\n",
        "    auc = area_under_curve(cv_data, all_artist_ids, model.transform)\n",
        "\n",
        "    model.userFactors.unpersist()\n",
        "    model.itemFactors.unpersist()\n",
        "\n",
        "    evaluations.append((auc, (rank, reg_param, alpha)))\n",
        "\n",
        "evaluations.sort(key=lambda x: x[0], reverse=True)\n",
        "pprint(evaluations)"
      ],
      "metadata": {
        "id": "2W_DKs2Kx6uM"
      },
      "execution_count": null,
      "outputs": []
    },
    {
      "cell_type": "code",
      "source": [
        "some_users = all_data.select(\"user\").distinct().limit(100)\n",
        "\n",
        "def make_recommendations(model, user_id, num_recs):\n",
        "    user_subset = train_data.select('user').where(col('user') == user_id).distinct()\n",
        "    recommendations = model.recommendForUserSubset(user_subset, num_recs)\n",
        "    return recommendations\n",
        "\n",
        "some_recommendations = [(user_id[0], make_recommendations(model, user_id[0], 5)) for user_id in some_users.collect()]\n",
        "\n",
        "for user_id, recs_df in some_recommendations:\n",
        "    recs_df = recs_df.select(\"recommendations\")\n",
        "    recommended_artists = [row.asDict()[\"artist\"] for row in recs_df.collect()[0][0]]\n",
        "    print(f\"{user_id} -> {', '.join(map(str, recommended_artists))}\")"
      ],
      "metadata": {
        "id": "3gJFGfDIx8q4"
      },
      "execution_count": null,
      "outputs": []
    }
  ],
  "metadata": {
    "colab": {
      "name": "Olá, este é o Colaboratory",
      "provenance": []
    },
    "kernelspec": {
      "display_name": "Python 3",
      "name": "python3"
    }
  },
  "nbformat": 4,
  "nbformat_minor": 0
}