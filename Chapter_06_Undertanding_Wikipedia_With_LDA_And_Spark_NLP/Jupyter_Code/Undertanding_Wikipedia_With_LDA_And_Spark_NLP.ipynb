{
 "cells": [
  {
   "metadata": {},
   "cell_type": "code",
   "source": [
    "import spark\n",
    "from pyspark.ml.linalg import Vectors\n",
    "from pyspark.ml.clustering import LDA\n",
    "\n",
    "df = spark.createDataFrame([[1, Vectors.dense([0.0, 1.0])],\n",
    "                                [2, Vectors.dense([2.0, 3.0])],],\n",
    "                                [\"id\", \"features\"])\n",
    "\n",
    "lda = LDA(k=2, seed=1)\n",
    "lda.setMaxIter(10)\n",
    "\n",
    "model = lda.fit(df)\n",
    "\n",
    "model.vocabSize()\n",
    "\n",
    "model.describeTopics().show()"
   ],
   "id": "2fd677d2feb6efbf",
   "outputs": [],
   "execution_count": null
  },
  {
   "metadata": {},
   "cell_type": "code",
   "source": [
    "import pyspark\n",
    "\n",
    "from pyspark.sql import SparkSession"
   ],
   "id": "87cc83afde451bda",
   "outputs": [],
   "execution_count": null
  },
  {
   "metadata": {},
   "cell_type": "code",
   "source": [
    "spark = SparkSession.builder.config(\"spark.driver.memory\", \"8g\").\\\n",
    "                            config(\"spark.driver.maxResultSize\", \"0\").\\\n",
    "                            config(\"spark.kryoserializer.buffer.max\", \"2000M\").\\\n",
    "                            config(\"spark.jars.packages\", \"com.johnsnowlabs.nlp:spark-nlp_2.12:4.0.2\").\\\n",
    "                            appName('chapter_6').\\\n",
    "                            getOrCreate()"
   ],
   "id": "initial_id",
   "outputs": [],
   "execution_count": null
  },
  {
   "metadata": {},
   "cell_type": "markdown",
   "source": "# Getting the Data",
   "id": "1370adb7deff8c23"
  }
 ],
 "metadata": {
  "kernelspec": {
   "display_name": "Python 3",
   "language": "python",
   "name": "python3"
  },
  "language_info": {
   "codemirror_mode": {
    "name": "ipython",
    "version": 2
   },
   "file_extension": ".py",
   "mimetype": "text/x-python",
   "name": "python",
   "nbconvert_exporter": "python",
   "pygments_lexer": "ipython2",
   "version": "2.7.6"
  }
 },
 "nbformat": 4,
 "nbformat_minor": 5
}
