{
  "nbformat": 4,
  "nbformat_minor": 0,
  "metadata": {
    "colab": {
      "provenance": []
    },
    "kernelspec": {
      "name": "python3",
      "display_name": "Python 3"
    },
    "language_info": {
      "name": "python"
    }
  },
  "cells": [
    {
      "cell_type": "code",
      "execution_count": 1,
      "metadata": {
        "id": "d_t6DhWaNCAo"
      },
      "outputs": [],
      "source": [
        "!mkdir taxidata"
      ]
    },
    {
      "cell_type": "code",
      "source": [
        "!cd taxidata"
      ],
      "metadata": {
        "id": "52E4Rj9XNqcg"
      },
      "execution_count": 2,
      "outputs": []
    },
    {
      "cell_type": "code",
      "source": [
        "!curl -O https://storage.googleapis.com/aas-data-sets/trip_data_1.csv.zip"
      ],
      "metadata": {
        "colab": {
          "base_uri": "https://localhost:8080/"
        },
        "id": "IDOVJZj7NwTF",
        "outputId": "3f190ac1-21c2-49cd-8ee0-1c3cd9779b65"
      },
      "execution_count": 3,
      "outputs": [
        {
          "output_type": "stream",
          "name": "stdout",
          "text": [
            "  % Total    % Received % Xferd  Average Speed   Time    Time     Time  Current\n",
            "                                 Dload  Upload   Total   Spent    Left  Speed\n",
            "100  899M  100  899M    0     0  93.1M      0  0:00:09  0:00:09 --:--:-- 88.4M\n"
          ]
        }
      ]
    },
    {
      "cell_type": "code",
      "source": [
        "!unzip trip_data_1.csv.zip"
      ],
      "metadata": {
        "colab": {
          "base_uri": "https://localhost:8080/"
        },
        "id": "a_bPT6rKNzsV",
        "outputId": "6672fda5-badb-458c-8ded-9caf466ba9fd"
      },
      "execution_count": 4,
      "outputs": [
        {
          "output_type": "stream",
          "name": "stdout",
          "text": [
            "Archive:  trip_data_1.csv.zip\n",
            "  inflating: trip_data_1.csv         \n"
          ]
        }
      ]
    },
    {
      "cell_type": "code",
      "source": [
        "!head -n 5 trip_data_1.csv"
      ],
      "metadata": {
        "colab": {
          "base_uri": "https://localhost:8080/"
        },
        "id": "zY3sS4BuN4Pl",
        "outputId": "0f680b98-4886-4cea-8be0-e73a708d4816"
      },
      "execution_count": 5,
      "outputs": [
        {
          "output_type": "stream",
          "name": "stdout",
          "text": [
            "medallion,hack_license,vendor_id,rate_code,store_and_fwd_flag,pickup_datetime,dropoff_datetime,passenger_count,trip_time_in_secs,trip_distance,pickup_longitude,pickup_latitude,dropoff_longitude,dropoff_latitude\r\n",
            "89D227B655E5C82AECF13C3F540D4CF4,BA96DE419E711691B9445D6A6307C170,CMT,1,N,2013-01-01 15:11:48,2013-01-01 15:18:10,4,382,1.00,-73.978165,40.757977,-73.989838,40.751171\r\n",
            "0BD7C8F5BA12B88E0B67BED28BEA73D8,9FD8F69F0804BDB5549F40E9DA1BE472,CMT,1,N,2013-01-06 00:18:35,2013-01-06 00:22:54,1,259,1.50,-74.006683,40.731781,-73.994499,40.75066\r\n",
            "0BD7C8F5BA12B88E0B67BED28BEA73D8,9FD8F69F0804BDB5549F40E9DA1BE472,CMT,1,N,2013-01-05 18:49:41,2013-01-05 18:54:23,1,282,1.10,-74.004707,40.73777,-74.009834,40.726002\r\n",
            "DFD2202EE08F7A8DC9A57B02ACB81FE2,51EE87E3205C985EF8431D850C786310,CMT,1,N,2013-01-07 23:54:15,2013-01-07 23:58:20,2,244,.70,-73.974602,40.759945,-73.984734,40.759388\r\n"
          ]
        }
      ]
    },
    {
      "cell_type": "code",
      "source": [
        "!mv trip_data_1.csv taxidata/"
      ],
      "metadata": {
        "id": "DbC7FbLxOCrv"
      },
      "execution_count": 6,
      "outputs": []
    },
    {
      "cell_type": "code",
      "source": [
        "!pip install pyspark\n",
        "import pyspark\n",
        "\n",
        "from pyspark.sql import SparkSession"
      ],
      "metadata": {
        "colab": {
          "base_uri": "https://localhost:8080/"
        },
        "id": "xLZNcJGyOUhV",
        "outputId": "a65b17d2-99c1-486b-a312-5c961f66b7e7"
      },
      "execution_count": 9,
      "outputs": [
        {
          "output_type": "stream",
          "name": "stdout",
          "text": [
            "Collecting pyspark\n",
            "  Downloading pyspark-3.5.1.tar.gz (317.0 MB)\n",
            "\u001b[2K     \u001b[90m━━━━━━━━━━━━━━━━━━━━━━━━━━━━━━━━━━━━━━━━\u001b[0m \u001b[32m317.0/317.0 MB\u001b[0m \u001b[31m2.4 MB/s\u001b[0m eta \u001b[36m0:00:00\u001b[0m\n",
            "\u001b[?25h  Preparing metadata (setup.py) ... \u001b[?25l\u001b[?25hdone\n",
            "Requirement already satisfied: py4j==0.10.9.7 in /usr/local/lib/python3.10/dist-packages (from pyspark) (0.10.9.7)\n",
            "Building wheels for collected packages: pyspark\n",
            "  Building wheel for pyspark (setup.py) ... \u001b[?25l\u001b[?25hdone\n",
            "  Created wheel for pyspark: filename=pyspark-3.5.1-py2.py3-none-any.whl size=317488491 sha256=0e430f9d1515795a0ffb3e444773c0a669137de6ecfb1bcf4775d54fe1696b58\n",
            "  Stored in directory: /root/.cache/pip/wheels/80/1d/60/2c256ed38dddce2fdd93be545214a63e02fbd8d74fb0b7f3a6\n",
            "Successfully built pyspark\n",
            "Installing collected packages: pyspark\n",
            "Successfully installed pyspark-3.5.1\n"
          ]
        }
      ]
    },
    {
      "cell_type": "code",
      "source": [
        "spark = SparkSession.builder.config(\"spark.driver.memory\", \"8g\").appName('chapter_7').getOrCreate()"
      ],
      "metadata": {
        "id": "9TV8Ba_XOwgV"
      },
      "execution_count": 10,
      "outputs": []
    },
    {
      "cell_type": "markdown",
      "source": [
        "# Preparing the Data"
      ],
      "metadata": {
        "id": "4PvUu-lsQwHs"
      }
    },
    {
      "cell_type": "code",
      "source": [
        "taxi_raw = spark.read.option(\"header\", True).csv(\"taxidata/trip_data_1.csv\")\n",
        "taxi_raw.show(1, vertical=True)"
      ],
      "metadata": {
        "colab": {
          "base_uri": "https://localhost:8080/"
        },
        "id": "c6RUsG2PPzkV",
        "outputId": "47e5caf2-126c-40ac-b745-372d81d6981f"
      },
      "execution_count": 11,
      "outputs": [
        {
          "output_type": "stream",
          "name": "stdout",
          "text": [
            "-RECORD 0----------------------------------\n",
            " medallion          | 89D227B655E5C82AE... \n",
            " hack_license       | BA96DE419E711691B... \n",
            " vendor_id          | CMT                  \n",
            " rate_code          | 1                    \n",
            " store_and_fwd_flag | N                    \n",
            " pickup_datetime    | 2013-01-01 15:11:48  \n",
            " dropoff_datetime   | 2013-01-01 15:18:10  \n",
            " passenger_count    | 4                    \n",
            " trip_time_in_secs  | 382                  \n",
            " trip_distance      | 1.00                 \n",
            " pickup_longitude   | -73.978165           \n",
            " pickup_latitude    | 40.757977            \n",
            " dropoff_longitude  | -73.989838           \n",
            " dropoff_latitude   | 40.751171            \n",
            "only showing top 1 row\n",
            "\n"
          ]
        }
      ]
    },
    {
      "cell_type": "code",
      "source": [
        "taxi_raw.printSchema()"
      ],
      "metadata": {
        "colab": {
          "base_uri": "https://localhost:8080/"
        },
        "id": "7vV5VhX8QoN9",
        "outputId": "b51b98e8-ed0d-4ba3-b942-357d2fa006dd"
      },
      "execution_count": 12,
      "outputs": [
        {
          "output_type": "stream",
          "name": "stdout",
          "text": [
            "root\n",
            " |-- medallion: string (nullable = true)\n",
            " |-- hack_license: string (nullable = true)\n",
            " |-- vendor_id: string (nullable = true)\n",
            " |-- rate_code: string (nullable = true)\n",
            " |-- store_and_fwd_flag: string (nullable = true)\n",
            " |-- pickup_datetime: string (nullable = true)\n",
            " |-- dropoff_datetime: string (nullable = true)\n",
            " |-- passenger_count: string (nullable = true)\n",
            " |-- trip_time_in_secs: string (nullable = true)\n",
            " |-- trip_distance: string (nullable = true)\n",
            " |-- pickup_longitude: string (nullable = true)\n",
            " |-- pickup_latitude: string (nullable = true)\n",
            " |-- dropoff_longitude: string (nullable = true)\n",
            " |-- dropoff_latitude: string (nullable = true)\n",
            "\n"
          ]
        }
      ]
    },
    {
      "cell_type": "code",
      "source": [
        "from pyspark.sql import functions as fun\n",
        "\n",
        "taxi_raw = taxi_raw.withColumn('pickup_datetime',\n",
        "                                fun.to_timestamp(fun.col('pickup_datetime'),\n",
        "                                                \"yyyy-MM-dd HH:mm:ss\"))\n",
        "taxi_raw = taxi_raw.withColumn('dropoff_datetime',\n",
        "                                fun.to_timestamp(fun.col('dropoff_datetime'),\n",
        "                                                \"yyyy-MM-dd HH:mm:ss\"))"
      ],
      "metadata": {
        "id": "AviFk8SrQvcv"
      },
      "execution_count": 13,
      "outputs": []
    },
    {
      "cell_type": "code",
      "source": [
        "taxi_raw.printSchema()"
      ],
      "metadata": {
        "colab": {
          "base_uri": "https://localhost:8080/"
        },
        "id": "VW2r-tbVRQsB",
        "outputId": "be8feffa-aad5-4dab-9fb9-94e179fa9813"
      },
      "execution_count": 14,
      "outputs": [
        {
          "output_type": "stream",
          "name": "stdout",
          "text": [
            "root\n",
            " |-- medallion: string (nullable = true)\n",
            " |-- hack_license: string (nullable = true)\n",
            " |-- vendor_id: string (nullable = true)\n",
            " |-- rate_code: string (nullable = true)\n",
            " |-- store_and_fwd_flag: string (nullable = true)\n",
            " |-- pickup_datetime: timestamp (nullable = true)\n",
            " |-- dropoff_datetime: timestamp (nullable = true)\n",
            " |-- passenger_count: string (nullable = true)\n",
            " |-- trip_time_in_secs: string (nullable = true)\n",
            " |-- trip_distance: string (nullable = true)\n",
            " |-- pickup_longitude: string (nullable = true)\n",
            " |-- pickup_latitude: string (nullable = true)\n",
            " |-- dropoff_longitude: string (nullable = true)\n",
            " |-- dropoff_latitude: string (nullable = true)\n",
            "\n"
          ]
        }
      ]
    },
    {
      "cell_type": "code",
      "source": [
        "taxi_raw.sort(fun.col('pickup_datetime').desc()).show(3, vertical=True)"
      ],
      "metadata": {
        "colab": {
          "base_uri": "https://localhost:8080/"
        },
        "id": "7QXZdUb9RT7Z",
        "outputId": "b590d0c1-57ff-44ce-a45d-d17c225fe788"
      },
      "execution_count": 15,
      "outputs": [
        {
          "output_type": "stream",
          "name": "stdout",
          "text": [
            "-RECORD 0----------------------------------\n",
            " medallion          | EA00A64CBDB68C77D... \n",
            " hack_license       | 2045C77002FA0F2E0... \n",
            " vendor_id          | CMT                  \n",
            " rate_code          | 1                    \n",
            " store_and_fwd_flag | N                    \n",
            " pickup_datetime    | 2013-01-31 23:59:59  \n",
            " dropoff_datetime   | 2013-02-01 00:08:39  \n",
            " passenger_count    | 1                    \n",
            " trip_time_in_secs  | 520                  \n",
            " trip_distance      | 1.50                 \n",
            " pickup_longitude   | -73.970528           \n",
            " pickup_latitude    | 40.75502             \n",
            " dropoff_longitude  | -73.981201           \n",
            " dropoff_latitude   | 40.769104            \n",
            "-RECORD 1----------------------------------\n",
            " medallion          | E3F00BB3F4E710383... \n",
            " hack_license       | 10A2B96DE39865918... \n",
            " vendor_id          | CMT                  \n",
            " rate_code          | 1                    \n",
            " store_and_fwd_flag | N                    \n",
            " pickup_datetime    | 2013-01-31 23:59:59  \n",
            " dropoff_datetime   | 2013-02-01 00:05:16  \n",
            " passenger_count    | 1                    \n",
            " trip_time_in_secs  | 317                  \n",
            " trip_distance      | 1.00                 \n",
            " pickup_longitude   | -73.990685           \n",
            " pickup_latitude    | 40.719158            \n",
            " dropoff_longitude  | -74.003288           \n",
            " dropoff_latitude   | 40.71521             \n",
            "-RECORD 2----------------------------------\n",
            " medallion          | FD413ACBB257C00C9... \n",
            " hack_license       | 145C85F942D3CE01C... \n",
            " vendor_id          | CMT                  \n",
            " rate_code          | 1                    \n",
            " store_and_fwd_flag | N                    \n",
            " pickup_datetime    | 2013-01-31 23:59:58  \n",
            " dropoff_datetime   | 2013-02-01 00:06:32  \n",
            " passenger_count    | 1                    \n",
            " trip_time_in_secs  | 393                  \n",
            " trip_distance      | 1.00                 \n",
            " pickup_longitude   | -73.971031           \n",
            " pickup_latitude    | 40.758099            \n",
            " dropoff_longitude  | -73.986649           \n",
            " dropoff_latitude   | 40.762287            \n",
            "only showing top 3 rows\n",
            "\n"
          ]
        }
      ]
    },
    {
      "cell_type": "code",
      "source": [
        "geospatial_temporal_colnames = [\"pickup_longitude\", \"pickup_latitude\", \\\n",
        "                                \"dropoff_longitude\", \"dropoff_latitude\", \\\n",
        "                                \"pickup_datetime\", \"dropoff_datetime\"]\n",
        "taxi_raw.select([fun.count(fun.when(fun.isnull(c), c)).\\\n",
        "                            alias(c) for c in geospatial_temporal_colnames]).\\\n",
        "                show()"
      ],
      "metadata": {
        "colab": {
          "base_uri": "https://localhost:8080/"
        },
        "id": "Nh4d0OhHRkoJ",
        "outputId": "6b0cd66e-5739-4d79-8447-75df8e49e27f"
      },
      "execution_count": 16,
      "outputs": [
        {
          "output_type": "stream",
          "name": "stdout",
          "text": [
            "+----------------+---------------+-----------------+----------------+---------------+----------------+\n",
            "|pickup_longitude|pickup_latitude|dropoff_longitude|dropoff_latitude|pickup_datetime|dropoff_datetime|\n",
            "+----------------+---------------+-----------------+----------------+---------------+----------------+\n",
            "|               0|              0|               86|              86|              0|               0|\n",
            "+----------------+---------------+-----------------+----------------+---------------+----------------+\n",
            "\n"
          ]
        }
      ]
    },
    {
      "cell_type": "code",
      "source": [
        "taxi_raw = taxi_raw.na.drop(subset=geospatial_temporal_colnames)"
      ],
      "metadata": {
        "id": "xUWNNw1sSJf_"
      },
      "execution_count": 17,
      "outputs": []
    },
    {
      "cell_type": "code",
      "source": [
        "print(\"Count of zero dropoff, pickup latitude and longitude records\")\n",
        "taxi_raw.groupBy((fun.col(\"dropoff_longitude\") == 0) |\n",
        "  (fun.col(\"dropoff_latitude\") == 0) |\n",
        "  (fun.col(\"pickup_longitude\") == 0) |\n",
        "  (fun.col(\"pickup_latitude\") == 0)).\\\n",
        "    count().show()"
      ],
      "metadata": {
        "colab": {
          "base_uri": "https://localhost:8080/"
        },
        "id": "N-l3aK_QSjHa",
        "outputId": "83648685-720d-4df1-d61e-1dd71c55b8b0"
      },
      "execution_count": 18,
      "outputs": [
        {
          "output_type": "stream",
          "name": "stdout",
          "text": [
            "Count of zero dropoff, pickup latitude and longitude records\n",
            "+----------------------------------------------------------------------------------------------------------+--------+\n",
            "|((((dropoff_longitude = 0) OR (dropoff_latitude = 0)) OR (pickup_longitude = 0)) OR (pickup_latitude = 0))|   count|\n",
            "+----------------------------------------------------------------------------------------------------------+--------+\n",
            "|                                                                                                      NULL|     176|\n",
            "|                                                                                                      true|  286433|\n",
            "|                                                                                                     false|14489920|\n",
            "+----------------------------------------------------------------------------------------------------------+--------+\n",
            "\n"
          ]
        }
      ]
    },
    {
      "cell_type": "markdown",
      "source": [
        "# Geospatial Analysis"
      ],
      "metadata": {
        "id": "nZ6_T-SDT48M"
      }
    },
    {
      "cell_type": "code",
      "source": [
        "url=\"https://nycdatastables.s3.amazonaws.com/2013-08-19T18:15:35.172Z/nyc-borough-boundaries-polygon.geojson\"\n",
        "!curl -O $url"
      ],
      "metadata": {
        "colab": {
          "base_uri": "https://localhost:8080/"
        },
        "id": "wbaXoem5S7dH",
        "outputId": "cf48171f-5870-47bc-c98e-d5e6f8bc696c"
      },
      "execution_count": 19,
      "outputs": [
        {
          "output_type": "stream",
          "name": "stdout",
          "text": [
            "  % Total    % Received % Xferd  Average Speed   Time    Time     Time  Current\n",
            "                                 Dload  Upload   Total   Spent    Left  Speed\n",
            "100   304    0   304    0     0   1094      0 --:--:-- --:--:-- --:--:--  1097\n"
          ]
        }
      ]
    },
    {
      "cell_type": "code",
      "source": [
        "!mv nyc-borough-boundaries-polygon.geojson nyc-boroughs.geojson"
      ],
      "metadata": {
        "id": "PcwRMBaBUN6g"
      },
      "execution_count": 20,
      "outputs": []
    },
    {
      "cell_type": "code",
      "source": [
        "!head -n 7 nyc-boroughs.geojson"
      ],
      "metadata": {
        "colab": {
          "base_uri": "https://localhost:8080/"
        },
        "id": "mKZ0QCdjUSQw",
        "outputId": "3812f2e9-5a73-403b-e202-5cc17a3fffca"
      },
      "execution_count": 25,
      "outputs": [
        {
          "output_type": "stream",
          "name": "stdout",
          "text": [
            "<?xml version=\"1.0\" encoding=\"UTF-8\"?>\n",
            "<Error><Code>NoSuchBucket</Code><Message>The specified bucket does not exist</Message><BucketName>nycdatastables</BucketName><RequestId>XY0W84DKGF5YWG82</RequestId><HostId>w7CMMStIqqsg6cq4v4W8c2GORvOHgwUoqWNFhxcc/KBKJzxBkRc8hJdu8NK1bs69k/vb0gR423c=</HostId></Error>"
          ]
        }
      ]
    },
    {
      "cell_type": "code",
      "source": [
        "!pip install geopandas"
      ],
      "metadata": {
        "colab": {
          "base_uri": "https://localhost:8080/"
        },
        "id": "HWMgrDcGUoXO",
        "outputId": "3f8fe69b-aad8-4a8a-d0d8-5c3439faee20"
      },
      "execution_count": 26,
      "outputs": [
        {
          "output_type": "stream",
          "name": "stdout",
          "text": [
            "Requirement already satisfied: geopandas in /usr/local/lib/python3.10/dist-packages (0.13.2)\n",
            "Requirement already satisfied: fiona>=1.8.19 in /usr/local/lib/python3.10/dist-packages (from geopandas) (1.9.6)\n",
            "Requirement already satisfied: packaging in /usr/local/lib/python3.10/dist-packages (from geopandas) (24.0)\n",
            "Requirement already satisfied: pandas>=1.1.0 in /usr/local/lib/python3.10/dist-packages (from geopandas) (2.0.3)\n",
            "Requirement already satisfied: pyproj>=3.0.1 in /usr/local/lib/python3.10/dist-packages (from geopandas) (3.6.1)\n",
            "Requirement already satisfied: shapely>=1.7.1 in /usr/local/lib/python3.10/dist-packages (from geopandas) (2.0.4)\n",
            "Requirement already satisfied: attrs>=19.2.0 in /usr/local/lib/python3.10/dist-packages (from fiona>=1.8.19->geopandas) (23.2.0)\n",
            "Requirement already satisfied: certifi in /usr/local/lib/python3.10/dist-packages (from fiona>=1.8.19->geopandas) (2024.2.2)\n",
            "Requirement already satisfied: click~=8.0 in /usr/local/lib/python3.10/dist-packages (from fiona>=1.8.19->geopandas) (8.1.7)\n",
            "Requirement already satisfied: click-plugins>=1.0 in /usr/local/lib/python3.10/dist-packages (from fiona>=1.8.19->geopandas) (1.1.1)\n",
            "Requirement already satisfied: cligj>=0.5 in /usr/local/lib/python3.10/dist-packages (from fiona>=1.8.19->geopandas) (0.7.2)\n",
            "Requirement already satisfied: six in /usr/local/lib/python3.10/dist-packages (from fiona>=1.8.19->geopandas) (1.16.0)\n",
            "Requirement already satisfied: python-dateutil>=2.8.2 in /usr/local/lib/python3.10/dist-packages (from pandas>=1.1.0->geopandas) (2.8.2)\n",
            "Requirement already satisfied: pytz>=2020.1 in /usr/local/lib/python3.10/dist-packages (from pandas>=1.1.0->geopandas) (2023.4)\n",
            "Requirement already satisfied: tzdata>=2022.1 in /usr/local/lib/python3.10/dist-packages (from pandas>=1.1.0->geopandas) (2024.1)\n",
            "Requirement already satisfied: numpy>=1.21.0 in /usr/local/lib/python3.10/dist-packages (from pandas>=1.1.0->geopandas) (1.25.2)\n"
          ]
        }
      ]
    },
    {
      "cell_type": "code",
      "source": [
        "import geopandas as gdp\n",
        "\n",
        "gdf = gdp.read_file(\"nyc-boroughs.geojson\")"
      ],
      "metadata": {
        "id": "gqW-AcCiWDVV"
      },
      "execution_count": null,
      "outputs": []
    },
    {
      "cell_type": "code",
      "source": [
        "gdf = gdf.to_crs(3857)\n",
        "\n",
        "gdf['area'] = gdf.apply(lambda x: x['geometry'].area, axis=1)\n",
        "gdf.head(5)"
      ],
      "metadata": {
        "id": "9_3LKW4qWxst"
      },
      "execution_count": null,
      "outputs": []
    },
    {
      "cell_type": "code",
      "source": [
        "gdf = gdf.sort_values(by=['boroughCode', 'area'], ascending=[True, False])\n",
        "gdf.head(5)"
      ],
      "metadata": {
        "id": "EoVpnWDEXVik"
      },
      "execution_count": null,
      "outputs": []
    },
    {
      "cell_type": "code",
      "source": [
        "from pyspark.sql.types import StringType\n",
        "\n",
        "b_gdf = spark.sparkContext.broadcast(gdf)\n",
        "\n",
        "\n",
        "def find_borough(latitude,longitude):\n",
        "    mgdf = b_gdf.value.apply(lambda x: x['borough'] if \\\n",
        "                              x['geometry'].\\\n",
        "                              intersects(gdp.\\\n",
        "                                        points_from_xy(\n",
        "                                            [longitude], \\\n",
        "                                            [latitude])[0]) \\\n",
        "                              else None, axis=1)\n",
        "    idx = mgdf.first_valid_index()\n",
        "    return mgdf.loc[idx] if idx is not None else None\n",
        "\n",
        "\n",
        "find_borough_udf = fun.udf(find_borough, StringType())"
      ],
      "metadata": {
        "id": "fD6RxL1xXZXz"
      },
      "execution_count": null,
      "outputs": []
    },
    {
      "cell_type": "code",
      "source": [
        "df_with_boroughs = taxi_raw.\\\n",
        "                    withColumn(\"dropoff_borough\", \\\n",
        "                              find_borough_udf(\n",
        "                                fun.col(\"dropoff_latitude\"),\\\n",
        "                                fun.col('dropoff_longitude')))\n",
        "\n",
        "df_with_boroughs.groupBy(fun.col(\"dropoff_borough\")).count().show()"
      ],
      "metadata": {
        "id": "NSreWEQ2XqcZ"
      },
      "execution_count": null,
      "outputs": []
    },
    {
      "cell_type": "markdown",
      "source": [
        "# Sessionization in PySpark"
      ],
      "metadata": {
        "id": "0DmHVjeZYITO"
      }
    },
    {
      "cell_type": "code",
      "source": [
        "from pyspark.sql import Window\n",
        "\n",
        "window_spec = Window.partitionBy(\"hack_license\").\\\n",
        "                      orderBy(fun.col(\"hack_license\"),\n",
        "                              fun.col(\"pickup_datetime\"))"
      ],
      "metadata": {
        "id": "X6QUi2EDX8Yg"
      },
      "execution_count": null,
      "outputs": []
    },
    {
      "cell_type": "code",
      "source": [
        "window_spec.cache()"
      ],
      "metadata": {
        "id": "v3Xm9QrEZUTf"
      },
      "execution_count": null,
      "outputs": []
    },
    {
      "cell_type": "code",
      "source": [
        "df_with_borough_durations = df_with_boroughs.\\\n",
        "            withColumn(\"trip_time_difference\", \\\n",
        "            fun.col(\"pickup_datetime\") - fun.lag(fun.col(\"pickup_datetime\"),\n",
        "                                          1). \\\n",
        "            over(window_spec)).show(50, vertical=True)"
      ],
      "metadata": {
        "id": "JeAIVmhyZrAJ"
      },
      "execution_count": null,
      "outputs": []
    },
    {
      "cell_type": "code",
      "source": [
        "df_with_borough_durations.\\\n",
        "  selectExpr(\"floor(seconds / 3600) as hours\").\\\n",
        "    groupBy(\"hours\").\\\n",
        "    count().\\\n",
        "    sort(\"hours\").\\\n",
        "    show()"
      ],
      "metadata": {
        "id": "Gt7mhLnvZuch"
      },
      "execution_count": null,
      "outputs": []
    },
    {
      "cell_type": "code",
      "source": [
        "from pyspark.sql.functions import avg, stddev\n",
        "\n",
        "df_with_borough_durations.\\\n",
        "    where(\"seconds > 0 AND seconds < 60*60*4\").\\\n",
        "    groupBy(\"borough\").\\\n",
        "    agg(avg(\"seconds\"), stddev(\"seconds\")).\\\n",
        "    show()"
      ],
      "metadata": {
        "id": "xaG0rzfCZzF2"
      },
      "execution_count": null,
      "outputs": []
    }
  ]
}