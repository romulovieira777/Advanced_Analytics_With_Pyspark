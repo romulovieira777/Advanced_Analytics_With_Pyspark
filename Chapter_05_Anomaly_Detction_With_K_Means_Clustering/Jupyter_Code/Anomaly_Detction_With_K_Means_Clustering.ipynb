{
 "nbformat": 4,
 "nbformat_minor": 0,
 "metadata": {
  "colab": {
   "provenance": []
  },
  "kernelspec": {
   "name": "python3",
   "display_name": "Python 3"
  },
  "language_info": {
   "name": "python"
  }
 },
 "cells": [
  {
   "cell_type": "code",
   "execution_count": 5,
   "metadata": {
    "colab": {
     "base_uri": "https://localhost:8080/"
    },
    "id": "d_VahY-nt558",
    "outputId": "dad3b08d-a815-4c45-94c7-55339d5e2d6c"
   },
   "outputs": [
    {
     "output_type": "stream",
     "name": "stdout",
     "text": [
      "Collecting pyspark\n",
      "  Downloading pyspark-3.5.1.tar.gz (317.0 MB)\n",
      "\u001B[2K     \u001B[90m━━━━━━━━━━━━━━━━━━━━━━━━━━━━━━━━━━━━━━━━\u001B[0m \u001B[32m317.0/317.0 MB\u001B[0m \u001B[31m4.1 MB/s\u001B[0m eta \u001B[36m0:00:00\u001B[0m\n",
      "\u001B[?25h  Preparing metadata (setup.py) ... \u001B[?25l\u001B[?25hdone\n",
      "Requirement already satisfied: py4j==0.10.9.7 in /usr/local/lib/python3.10/dist-packages (from pyspark) (0.10.9.7)\n",
      "Building wheels for collected packages: pyspark\n",
      "  Building wheel for pyspark (setup.py) ... \u001B[?25l\u001B[?25hdone\n",
      "  Created wheel for pyspark: filename=pyspark-3.5.1-py2.py3-none-any.whl size=317488491 sha256=0c881e3efaedab9d10ba0304697b7adf502199b07aa9d0a14687eafad407146b\n",
      "  Stored in directory: /root/.cache/pip/wheels/80/1d/60/2c256ed38dddce2fdd93be545214a63e02fbd8d74fb0b7f3a6\n",
      "Successfully built pyspark\n",
      "Installing collected packages: pyspark\n",
      "Successfully installed pyspark-3.5.1\n"
     ]
    }
   ],
   "source": [
    "import pyspark\n",
    "\n",
    "from pyspark.sql import SparkSession"
   ]
  },
  {
   "cell_type": "code",
   "source": [
    "spark = SparkSession.builder.config(\"spark.driver.memory\", \"6g\").appName('chapter_5').getOrCreate()"
   ],
   "metadata": {
    "id": "ASDb6AZTt6fR"
   },
   "execution_count": 6,
   "outputs": []
  },
  {
   "cell_type": "markdown",
   "source": [
    "# Identifying Anomalous Network Traffic"
   ],
   "metadata": {
    "id": "4zdhTkiDt8HS"
   }
  },
  {
   "cell_type": "code",
   "source": [
    "!head -n 1 /content/kddcup.data.corrected"
   ],
   "metadata": {
    "colab": {
     "base_uri": "https://localhost:8080/"
    },
    "id": "Z4pYu0vcuVcZ",
    "outputId": "2b32a1b1-3d0e-4c4b-825a-1eb2dd4f07f4"
   },
   "execution_count": 7,
   "outputs": [
    {
     "output_type": "stream",
     "name": "stdout",
     "text": [
      "0,tcp,http,SF,215,45076,0,0,0,0,0,1,0,0,0,0,0,0,0,0,0,0,1,1,0.00,0.00,0.00,0.00,1.00,0.00,0.00,0,0,0.00,0.00,0.00,0.00,0.00,0.00,0.00,0.00,normal.\n"
     ]
    }
   ]
  },
  {
   "cell_type": "markdown",
   "source": [
    "# A First Take on Clustering"
   ],
   "metadata": {
    "id": "Pb-P5XvOu6Ox"
   }
  },
  {
   "cell_type": "code",
   "source": [
    "data_without_header = spark.read.option(\"inferSchema\", True).\\\n",
    "                                  option(\"header\", False).\\\n",
    "                                  csv(\"/content/kddcup.data.corrected\")\n",
    "\n",
    "column_names = [  \"duration\", \"protocol_type\", \"service\", \"flag\",\n",
    "  \"src_bytes\", \"dst_bytes\", \"land\", \"wrong_fragment\", \"urgent\",\n",
    "  \"hot\", \"num_failed_logins\", \"logged_in\", \"num_compromised\",\n",
    "  \"root_shell\", \"su_attempted\", \"num_root\", \"num_file_creations\",\n",
    "  \"num_shells\", \"num_access_files\", \"num_outbound_cmds\",\n",
    "  \"is_host_login\", \"is_guest_login\", \"count\", \"srv_count\",\n",
    "  \"serror_rate\", \"srv_serror_rate\", \"rerror_rate\", \"srv_rerror_rate\",\n",
    "  \"same_srv_rate\", \"diff_srv_rate\", \"srv_diff_host_rate\",\n",
    "  \"dst_host_count\", \"dst_host_srv_count\",\n",
    "  \"dst_host_same_srv_rate\", \"dst_host_diff_srv_rate\",\n",
    "  \"dst_host_same_src_port_rate\", \"dst_host_srv_diff_host_rate\",\n",
    "  \"dst_host_serror_rate\", \"dst_host_srv_serror_rate\",\n",
    "  \"dst_host_rerror_rate\", \"dst_host_srv_rerror_rate\",\n",
    "  \"label\"]\n",
    "\n",
    "data = data_without_header.toDF(*column_names)"
   ],
   "metadata": {
    "id": "V-CHEBaRuFzI"
   },
   "execution_count": 8,
   "outputs": []
  },
  {
   "cell_type": "code",
   "source": [
    "from pyspark.sql.functions import col\n",
    "\n",
    "data.select(\"label\").groupBy(\"label\").count(). \\\n",
    "      orderBy(col(\"count\").desc()).show(25)"
   ],
   "metadata": {
    "colab": {
     "base_uri": "https://localhost:8080/"
    },
    "id": "gA612gM8u_8q",
    "outputId": "c25f53f0-a24b-42fa-f50d-eb4401874a8b"
   },
   "execution_count": 9,
   "outputs": [
    {
     "output_type": "stream",
     "name": "stdout",
     "text": [
      "+----------------+-------+\n",
      "|           label|  count|\n",
      "+----------------+-------+\n",
      "|          smurf.|2661606|\n",
      "|        neptune.| 860307|\n",
      "|         normal.| 784172|\n",
      "|          satan.|  15888|\n",
      "|        ipsweep.|  11167|\n",
      "|      portsweep.|   8609|\n",
      "|           nmap.|   2316|\n",
      "|           back.|   2103|\n",
      "|    warezclient.|   1020|\n",
      "|       teardrop.|    879|\n",
      "|            pod.|    242|\n",
      "|   guess_passwd.|     53|\n",
      "|    warezmaster.|     20|\n",
      "|           land.|     18|\n",
      "|buffer_overflow.|     17|\n",
      "|           imap.|     12|\n",
      "|     loadmodule.|      9|\n",
      "|      ftp_write.|      8|\n",
      "|        rootkit.|      8|\n",
      "|       multihop.|      7|\n",
      "|           perl.|      3|\n",
      "|            phf.|      3|\n",
      "|            spy.|      2|\n",
      "+----------------+-------+\n",
      "\n"
     ]
    }
   ]
  },
  {
   "cell_type": "code",
   "source": [
    "from pyspark.ml.feature import VectorAssembler\n",
    "from pyspark.ml.clustering import KMeans, KMeansModel\n",
    "from pyspark.ml import Pipeline\n",
    "from pprint import pprint\n",
    "\n",
    "numeric_only = data.drop(\"protocol_type\", \"service\", \"flag\").cache()\n",
    "\n",
    "assembler = VectorAssembler().setInputCols(numeric_only.columns[:-1]). \\\n",
    "                              setOutputCol(\"featureVector\")\n",
    "\n",
    "kmeans = KMeans().setPredictionCol(\"cluster\").setFeaturesCol(\"featureVector\")\n",
    "\n",
    "pipeline = Pipeline().setStages([assembler, kmeans])\n",
    "pipeline_model = pipeline.fit(numeric_only)\n",
    "kmeans_model = pipeline_model.stages[1]\n",
    "\n",
    "pprint(kmeans_model.clusterCenters())"
   ],
   "metadata": {
    "colab": {
     "base_uri": "https://localhost:8080/"
    },
    "id": "KVahIJJbvRSo",
    "outputId": "2a1a4e37-ef28-4b53-ae28-bea1476f4437"
   },
   "execution_count": 10,
   "outputs": [
    {
     "output_type": "stream",
     "name": "stdout",
     "text": [
      "[array([2.15322734e+01, 1.99169416e+03, 8.40737098e+02, 5.74915120e-06,\n",
      "       6.57702897e-04, 8.96867586e-06, 1.24804874e-02, 3.44949072e-05,\n",
      "       1.41891811e-01, 8.31534232e-03, 7.12894748e-05, 3.49548393e-05,\n",
      "       1.30482736e-02, 1.11694509e-03, 7.40490674e-05, 9.23773614e-04,\n",
      "       0.00000000e+00, 2.29966048e-07, 8.21438723e-04, 3.50975836e+02,\n",
      "       3.14619054e+02, 1.98776160e-01, 1.98845736e-01, 1.55306421e-02,\n",
      "       1.55835158e-02, 8.10746279e-01, 1.85234133e-02, 2.77148619e-02,\n",
      "       2.33300882e+02, 1.96904250e+02, 7.83367846e-01, 2.34704222e-02,\n",
      "       6.36116642e-01, 6.43600919e-03, 1.98897793e-01, 1.98700165e-01,\n",
      "       1.57072951e-02, 1.55297268e-02]),\n",
      " array([1.0999000e+04, 0.0000000e+00, 1.3099374e+09, 0.0000000e+00,\n",
      "       0.0000000e+00, 0.0000000e+00, 0.0000000e+00, 0.0000000e+00,\n",
      "       0.0000000e+00, 0.0000000e+00, 0.0000000e+00, 0.0000000e+00,\n",
      "       0.0000000e+00, 0.0000000e+00, 0.0000000e+00, 0.0000000e+00,\n",
      "       0.0000000e+00, 0.0000000e+00, 0.0000000e+00, 1.0000000e+00,\n",
      "       1.0000000e+00, 0.0000000e+00, 0.0000000e+00, 1.0000000e+00,\n",
      "       1.0000000e+00, 1.0000000e+00, 0.0000000e+00, 0.0000000e+00,\n",
      "       2.5500000e+02, 1.0000000e+00, 0.0000000e+00, 6.5000000e-01,\n",
      "       1.0000000e+00, 0.0000000e+00, 0.0000000e+00, 0.0000000e+00,\n",
      "       1.0000000e+00, 1.0000000e+00])]\n"
     ]
    }
   ]
  },
  {
   "cell_type": "code",
   "source": [
    "with_cluster = pipeline_model.transform(numeric_only)\n",
    "\n",
    "with_cluster.select(\"cluster\", \"label\").groupBy(\"cluster\", \"label\").count().\\\n",
    "              orderBy(col(\"cluster\"), col(\"count\").desc()).show(25)"
   ],
   "metadata": {
    "colab": {
     "base_uri": "https://localhost:8080/"
    },
    "id": "4v3twMOtvT7G",
    "outputId": "f6f824a5-83d9-4c3a-a386-3da4b7ff7164"
   },
   "execution_count": 11,
   "outputs": [
    {
     "output_type": "stream",
     "name": "stdout",
     "text": [
      "+-------+----------------+-------+\n",
      "|cluster|           label|  count|\n",
      "+-------+----------------+-------+\n",
      "|      0|          smurf.|2661606|\n",
      "|      0|        neptune.| 860307|\n",
      "|      0|         normal.| 784172|\n",
      "|      0|          satan.|  15888|\n",
      "|      0|        ipsweep.|  11167|\n",
      "|      0|      portsweep.|   8608|\n",
      "|      0|           nmap.|   2316|\n",
      "|      0|           back.|   2103|\n",
      "|      0|    warezclient.|   1020|\n",
      "|      0|       teardrop.|    879|\n",
      "|      0|            pod.|    242|\n",
      "|      0|   guess_passwd.|     53|\n",
      "|      0|    warezmaster.|     20|\n",
      "|      0|           land.|     18|\n",
      "|      0|buffer_overflow.|     17|\n",
      "|      0|           imap.|     12|\n",
      "|      0|     loadmodule.|      9|\n",
      "|      0|      ftp_write.|      8|\n",
      "|      0|        rootkit.|      8|\n",
      "|      0|       multihop.|      7|\n",
      "|      0|           perl.|      3|\n",
      "|      0|            phf.|      3|\n",
      "|      0|            spy.|      2|\n",
      "|      1|      portsweep.|      1|\n",
      "+-------+----------------+-------+\n",
      "\n"
     ]
    }
   ]
  }
 ]
}
