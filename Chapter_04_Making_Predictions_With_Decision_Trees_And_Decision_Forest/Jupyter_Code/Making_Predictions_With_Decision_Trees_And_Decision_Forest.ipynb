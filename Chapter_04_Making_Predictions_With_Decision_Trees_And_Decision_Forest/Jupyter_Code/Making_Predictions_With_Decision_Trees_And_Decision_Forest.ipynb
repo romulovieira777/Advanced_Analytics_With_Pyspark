{
 "cells": [
  {
   "cell_type": "code",
   "id": "initial_id",
   "metadata": {
    "collapsed": true
   },
   "source": [
    "import pyspark\n",
    "\n",
    "from pyspark.sql import SparkSession"
   ],
   "outputs": [],
   "execution_count": null
  },
  {
   "metadata": {},
   "cell_type": "code",
   "source": "spark = SparkSession.builder.config(\"spark.driver.memory\", \"8g\").appName(\"DecisionTree\").getOrCreate()",
   "id": "39a578b5565b310",
   "outputs": [],
   "execution_count": null
  },
  {
   "metadata": {},
   "cell_type": "markdown",
   "source": "# Preparing the Data",
   "id": "ee7e8ab484f1891c"
  },
  {
   "metadata": {},
   "cell_type": "code",
   "source": [
    "data_without_header = spark.read.option(\"inferSchema\", True)\\\n",
    "                      .option(\"header\", False).csv(\"data/covtype.data\")\n",
    "\n",
    "data_without_header.printSchema()"
   ],
   "id": "81c6bdec33dcb05b",
   "outputs": [],
   "execution_count": null
  },
  {
   "metadata": {},
   "cell_type": "code",
   "outputs": [],
   "execution_count": null,
   "source": [
    "from pyspark.sql.types import DoubleType\n",
    "from pyspark.sql.functions import col\n",
    "\n",
    "\n",
    "colnames = [\n",
    "    \"Elevation\", \"Aspect\", \"Slope\", \"Horizontal_Distance_To_Hydrology\", \\\n",
    "    \"Vertical_Distance_To_Hydrology\", \"Horizontal_Distance_To_Roadways\", \\\n",
    "    \"Hillshade_9am\", \"Hillshade_Noon\", \"Hillshade_3pm\", \\\n",
    "    \"Horizontal_Distance_To_Fire_Points\"\n",
    "] + \\\n",
    "    [f\"Wilderness_Area_{i}\" for i in range(4)] + \\\n",
    "    [f\"Soil_Type_{i}\" for i in range(40)] + \\\n",
    "    [\"Cover_Type\"]\n",
    "\n",
    "data = data_without_header.toDF(*colnames). \\\n",
    "    withColumn(\"Cover_Type\", col(\"Cover_Type\").cast(DoubleType()))\n",
    "\n",
    "data.head()"
   ],
   "id": "9b431b55a2ce38f8"
  },
  {
   "metadata": {},
   "cell_type": "markdown",
   "source": "# Our First Decision Tree",
   "id": "eaf3bf158b2856bc"
  },
  {
   "metadata": {},
   "cell_type": "code",
   "outputs": [],
   "execution_count": null,
   "source": [
    "(train_data, test_data) = data.randomSplit([0.9, 0.1])\n",
    "train_data.cache()\n",
    "test_data.cache()"
   ],
   "id": "b8d162ec5868581d"
  },
  {
   "metadata": {},
   "cell_type": "code",
   "outputs": [],
   "execution_count": null,
   "source": [
    "from pyspark.ml.feature import VectorAssembler\n",
    "\n",
    "input_cols = colnames[:-1]\n",
    "vector_assembler = VectorAssembler(inputCols=input_cols, outputCol=\"featureVector\")\n",
    "\n",
    "assembled_train_data = vector_assembler.transform(train_data)\n",
    "\n",
    "assembled_train_data.select(\"featureVector\").show(truncate = False)"
   ],
   "id": "e6ea28c9260b7692"
  },
  {
   "metadata": {},
   "cell_type": "code",
   "outputs": [],
   "execution_count": null,
   "source": [
    "from pyspark.ml.classification import DecisionTreeClassifier\n",
    "\n",
    "classifier = DecisionTreeClassifier(seed=1234, labelCol=\"Cover_Type\", featuresCol=\"featureVector\",\n",
    "                                    predictionCol=\"prediction\")\n",
    "\n",
    "model = classifier.fit(assembled_train_data)\n",
    "print(model.toDebugString)"
   ],
   "id": "93c32205d8c8395a"
  },
  {
   "metadata": {},
   "cell_type": "code",
   "outputs": [],
   "execution_count": null,
   "source": [
    "import pandas as pd\n",
    "\n",
    "pd.DataFrame(model.featureImportances.toArray(), \n",
    "             index=input_cols, columns=[\"importance\"]). \\\n",
    "    sort_values(by=\"importance\", ascending=False)"
   ],
   "id": "6503ea82e38b6e0f"
  },
  {
   "metadata": {},
   "cell_type": "code",
   "outputs": [],
   "execution_count": null,
   "source": [
    "predictions = model.transform(assembled_train_data)\n",
    "predictions.select(\"Cover_Type\", \"prediction\", \"probability\").show(10, truncate=False)"
   ],
   "id": "3e4b1e6d20c6b243"
  }
 ],
 "metadata": {
  "kernelspec": {
   "display_name": "Python 3",
   "language": "python",
   "name": "python3"
  },
  "language_info": {
   "codemirror_mode": {
    "name": "ipython",
    "version": 2
   },
   "file_extension": ".py",
   "mimetype": "text/x-python",
   "name": "python",
   "nbconvert_exporter": "python",
   "pygments_lexer": "ipython2",
   "version": "2.7.6"
  }
 },
 "nbformat": 4,
 "nbformat_minor": 5
}
