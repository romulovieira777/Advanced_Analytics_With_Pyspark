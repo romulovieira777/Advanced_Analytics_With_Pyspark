{
  "nbformat": 4,
  "nbformat_minor": 0,
  "metadata": {
    "colab": {
      "provenance": []
    },
    "kernelspec": {
      "name": "python3",
      "display_name": "Python 3"
    },
    "language_info": {
      "name": "python"
    }
  },
  "cells": [
    {
      "cell_type": "code",
      "execution_count": 1,
      "metadata": {
        "colab": {
          "base_uri": "https://localhost:8080/"
        },
        "id": "X0zdNqwnKgcv",
        "outputId": "dac2dc23-30d5-44ce-b065-8f810ad7cd08"
      },
      "outputs": [
        {
          "output_type": "stream",
          "name": "stdout",
          "text": [
            "Collecting pyspark\n",
            "  Downloading pyspark-3.5.1.tar.gz (317.0 MB)\n",
            "\u001b[2K     \u001b[90m━━━━━━━━━━━━━━━━━━━━━━━━━━━━━━━━━━━━━━━━\u001b[0m \u001b[32m317.0/317.0 MB\u001b[0m \u001b[31m3.5 MB/s\u001b[0m eta \u001b[36m0:00:00\u001b[0m\n",
            "\u001b[?25h  Preparing metadata (setup.py) ... \u001b[?25l\u001b[?25hdone\n",
            "Requirement already satisfied: py4j==0.10.9.7 in /usr/local/lib/python3.10/dist-packages (from pyspark) (0.10.9.7)\n",
            "Building wheels for collected packages: pyspark\n",
            "  Building wheel for pyspark (setup.py) ... \u001b[?25l\u001b[?25hdone\n",
            "  Created wheel for pyspark: filename=pyspark-3.5.1-py2.py3-none-any.whl size=317488491 sha256=25d75600c7636c8a457fc51a81a7a9a84eb62adf66300e4253522842f2881913\n",
            "  Stored in directory: /root/.cache/pip/wheels/80/1d/60/2c256ed38dddce2fdd93be545214a63e02fbd8d74fb0b7f3a6\n",
            "Successfully built pyspark\n",
            "Installing collected packages: pyspark\n",
            "Successfully installed pyspark-3.5.1\n"
          ]
        }
      ],
      "source": [
        "!pip install pyspark\n",
        "import pyspark\n",
        "\n",
        "from pyspark.sql import SparkSession"
      ]
    },
    {
      "cell_type": "code",
      "source": [
        "spark = SparkSession.builder.config(\"spark.driver.memory\", \"8g\").appName('chapter_9').getOrCreate()"
      ],
      "metadata": {
        "id": "F8Sl4L_ZKwtv"
      },
      "execution_count": 2,
      "outputs": []
    },
    {
      "cell_type": "code",
      "source": [
        "!curl -O ftp://ftp.ncbi.nlm.nih.gov/1000genomes/ftp/phase3/data\\\n",
        "/HG00103/alignment/HG00103.mapped.ILLUMINA.bwa.GBR\\\n",
        ".low_coverage.20120522.bam"
      ],
      "metadata": {
        "colab": {
          "base_uri": "https://localhost:8080/"
        },
        "id": "fTD68jjRKyvC",
        "outputId": "8461a722-77a2-4c2f-f0da-b0840ca7a02f"
      },
      "execution_count": 3,
      "outputs": [
        {
          "output_type": "stream",
          "name": "stdout",
          "text": [
            "  % Total    % Received % Xferd  Average Speed   Time    Time     Time  Current\n",
            "                                 Dload  Upload   Total   Spent    Left  Speed\n",
            "  0     0    0     0    0     0      0      0 --:--:-- --:--:-- --:--:--     0\n",
            "curl: (78) The file does not exist\n",
            "curl: (3) URL using bad/illegal format or missing URL\n",
            "curl: (6) Could not resolve host: .low_coverage.20120522.bam\n"
          ]
        }
      ]
    },
    {
      "cell_type": "code",
      "source": [
        "!mv HG00103.mapped.ILLUMINA.bwa.GBR\\\n",
        ".low_coverage.20120522.bam data/genomics"
      ],
      "metadata": {
        "colab": {
          "base_uri": "https://localhost:8080/"
        },
        "id": "Ku1U9L1hLLf-",
        "outputId": "ac815e8f-a74f-4fa0-9636-a8221cde42fd"
      },
      "execution_count": 4,
      "outputs": [
        {
          "output_type": "stream",
          "name": "stdout",
          "text": [
            "mv: target 'data/genomics' is not a directory\n"
          ]
        }
      ]
    },
    {
      "cell_type": "code",
      "source": [
        "!adam-submit \\\n",
        "  --master yarn \\ 1\n",
        "  --deploy-mode client \\\n",
        "  --driver-memory 8G \\\n",
        "  --num-executors 6 \\\n",
        "  --executor-cores 4 \\\n",
        "  --executor-memory 12G \\\n",
        "  -- \\\n",
        "  transform \\ 2\n",
        "  data/genomics/HG00103.mapped.ILLUMINA.bwa.GBR\\\n",
        ".low_coverage.20120522.bam \\\n",
        "  data/genomics/HG00103"
      ],
      "metadata": {
        "id": "yqDdS0OiQRQE"
      },
      "execution_count": null,
      "outputs": []
    },
    {
      "cell_type": "code",
      "source": [
        "!du -sh data/genomics/HG00103*bam\n",
        "16G  data/genomics/HG00103. [...] .bam\n",
        "\n",
        "!du -sh data/genomics/HG00103/\n",
        "13G  data/genomics/HG00103"
      ],
      "metadata": {
        "id": "XDUkCQIrRyHX"
      },
      "execution_count": null,
      "outputs": []
    }
  ]
}